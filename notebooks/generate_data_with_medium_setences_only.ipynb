{
 "cells": [
  {
   "cell_type": "code",
   "execution_count": 1,
   "metadata": {},
   "outputs": [],
   "source": [
    "from torchtext import data\n",
    "from torchtext import datasets\n",
    "\n",
    "from functools import partial\n",
    "import sys\n",
    "sys.path.append('../src')\n",
    "import config\n",
    "\n",
    "import io\n",
    "import os\n",
    "from loader import *\n",
    "import rnn_encoder_decoder"
   ]
  },
  {
   "cell_type": "code",
   "execution_count": 16,
   "metadata": {},
   "outputs": [
    {
     "name": "stderr",
     "output_type": "stream",
     "text": [
      "The `device` argument should be set by using `torch.device` or passing a string as an argument. This behavior will be deprecated soon and currently defaults to cpu.\n",
      "The `device` argument should be set by using `torch.device` or passing a string as an argument. This behavior will be deprecated soon and currently defaults to cpu.\n"
     ]
    },
    {
     "name": "stdout",
     "output_type": "stream",
     "text": [
      "Most common source vocabs: [('的', 281920), ('我', 154809), ('一', 124419), ('是', 124104), ('们', 120231), ('这', 97418), ('个', 84887), ('在', 80827), ('有', 73956), ('人', 63944)]\n",
      "Source vocab size: 4168\n",
      "Most common english vocabs: [('the', 178698), ('and', 128791), ('to', 106119), ('of', 98919), ('a', 90534), ('that', 80454), ('i', 68877), ('in', 66951), ('it', 64198), ('you', 61161)]\n",
      "English vocab size: 28786\n"
     ]
    }
   ],
   "source": [
    "parser = rnn_encoder_decoder.rnn_encoder_decoder_argparser()\n",
    "args = parser.parse_args([]) # use default settings\n",
    "args.split_chinese_into_characters = True\n",
    "train, val, test, ZH, EN = load_data(args)\n",
    "train_iter, val_iter = data.BucketIterator.splits(\n",
    "        (train, val), batch_size=4, device=-1\n",
    ")\n",
    "indices_short_chinese = []\n",
    "for each in train_iter.dataset:\n",
    "    if 4.4 < len(each.trg) < 31.6:\n",
    "        indices_short_chinese.append(each.idx)\n",
    "with open(\"../data/iwslt-zh-en/train.tok.en\") as f:\n",
    "    eng = f.readlines()\n",
    "with open(\"../data/iwslt-zh-en/train.tok.zh\") as f:\n",
    "    zh = f.readlines()\n",
    "short_chinese_lines, short_eng_lines = [], []\n",
    "for idx in indices_short_chinese:\n",
    "    short_chinese_lines.append(zh[idx])\n",
    "    short_eng_lines.append(eng[idx])\n",
    "import pathlib\n",
    "\n",
    "pathlib.Path(\"../data/1std-sentences-zh-en/\").mkdir(parents=True, exist_ok=True)\n",
    "#with open(\"../data/new-1std-sentences-zh-en/dev.tok.en\", \"w\") as f:\n",
    "    #for line in short_eng_lines_dev:\n",
    "        #f.write(line)\n",
    "#with open(\"../data/new-1std-sentences-zh-en/dev.tok.zh\", \"w\") as f:\n",
    "    #for line in short_chinese_lines_dev:\n",
    "        #f.write(line)\n",
    "with open(\"../data/1std-sentences-zh-en/train.tok.en\", \"w\") as f:\n",
    "    for line in short_eng_lines:\n",
    "        f.write(line)\n",
    "with open(\"../data/1std-sentences-zh-en/train.tok.zh\", \"w\") as f:\n",
    "    for line in short_chinese_lines:\n",
    "        f.write(line)"
   ]
  },
  {
   "cell_type": "code",
   "execution_count": 2,
   "metadata": {},
   "outputs": [],
   "source": [
    "parser = rnn_encoder_decoder.rnn_encoder_decoder_argparser()\n",
    "args = parser.parse_args([]) # use default settings\n",
    "args.split_chinese_into_characters = True\n",
    "args.data='../data/new-zh-en-tok/'"
   ]
  },
  {
   "cell_type": "code",
   "execution_count": 3,
   "metadata": {},
   "outputs": [
    {
     "name": "stdout",
     "output_type": "stream",
     "text": [
      "Most common source vocabs: [('的', 281572), ('我', 154640), ('是', 121356), ('们', 120060), ('一', 103866), ('这', 96814), ('在', 78965), ('个', 75364), ('有', 65655), ('了', 58955)]\n",
      "Source vocab size: 4197\n",
      "Most common english vocabs: [('the', 178698), ('and', 128791), ('to', 106119), ('of', 98919), ('a', 90534), ('that', 80454), ('i', 68877), ('in', 66951), ('it', 64198), ('you', 61161)]\n",
      "English vocab size: 28786\n"
     ]
    }
   ],
   "source": [
    "train, val, test, ZH, EN = load_data(args)"
   ]
  },
  {
   "cell_type": "code",
   "execution_count": 4,
   "metadata": {},
   "outputs": [
    {
     "name": "stderr",
     "output_type": "stream",
     "text": [
      "The `device` argument should be set by using `torch.device` or passing a string as an argument. This behavior will be deprecated soon and currently defaults to cpu.\n",
      "The `device` argument should be set by using `torch.device` or passing a string as an argument. This behavior will be deprecated soon and currently defaults to cpu.\n"
     ]
    }
   ],
   "source": [
    "train_iter, val_iter = data.BucketIterator.splits(\n",
    "        (train, val), batch_size=4, device=-1\n",
    ")"
   ]
  },
  {
   "cell_type": "code",
   "execution_count": 9,
   "metadata": {},
   "outputs": [],
   "source": [
    "indices_short_chinese = []\n",
    "for each in train_iter.dataset:\n",
    "    if 4.4 < len(each.trg) < 31.6:\n",
    "        indices_short_chinese.append(each.idx)\n",
    "with open(\"../data/new-zh-en-tok/train.tok.en\") as f:\n",
    "    eng = f.readlines()\n",
    "with open(\"../data/new-zh-en-tok/train.tok.zh\") as f:\n",
    "    zh = f.readlines()\n",
    "short_chinese_lines, short_eng_lines = [], []\n",
    "for idx in indices_short_chinese:\n",
    "    short_chinese_lines.append(zh[idx])\n",
    "    short_eng_lines.append(eng[idx])"
   ]
  },
  {
   "cell_type": "code",
   "execution_count": 10,
   "metadata": {},
   "outputs": [],
   "source": [
    "indices_short_chinese_dev = []\n",
    "for each in val_iter.dataset:\n",
    "    if 4.4 < len(each.trg) < 31.6:\n",
    "        indices_short_chinese_dev.append(each.idx)\n",
    "with open(\"../data/new-zh-en-tok/dev.tok.en\") as f:\n",
    "    eng_dev = f.readlines()\n",
    "with open(\"../data/new-zh-en-tok/dev.tok.zh\") as f:\n",
    "    zh_dev = f.readlines()\n",
    "short_chinese_lines_dev, short_eng_lines_dev = [], []\n",
    "for idx in indices_short_chinese_dev:\n",
    "    short_chinese_lines_dev.append(zh_dev[idx])\n",
    "    short_eng_lines_dev.append(eng_dev[idx])"
   ]
  },
  {
   "cell_type": "code",
   "execution_count": 11,
   "metadata": {},
   "outputs": [],
   "source": [
    "import pathlib\n",
    "\n",
    "pathlib.Path(\"../data/new-1std-sentences-zh-en/\").mkdir(parents=True, exist_ok=True)\n",
    "#with open(\"../data/new-1std-sentences-zh-en/dev.tok.en\", \"w\") as f:\n",
    "    #for line in short_eng_lines_dev:\n",
    "        #f.write(line)\n",
    "#with open(\"../data/new-1std-sentences-zh-en/dev.tok.zh\", \"w\") as f:\n",
    "    #for line in short_chinese_lines_dev:\n",
    "        #f.write(line)\n",
    "with open(\"../data/new-1std-sentences-zh-en/train.tok.en\", \"w\") as f:\n",
    "    for line in short_eng_lines:\n",
    "        f.write(line)\n",
    "with open(\"../data/new-1std-sentences-zh-en/train.tok.zh\", \"w\") as f:\n",
    "    for line in short_chinese_lines:\n",
    "        f.write(line)"
   ]
  },
  {
   "cell_type": "code",
   "execution_count": 18,
   "metadata": {},
   "outputs": [
    {
     "name": "stderr",
     "output_type": "stream",
     "text": [
      "The `device` argument should be set by using `torch.device` or passing a string as an argument. This behavior will be deprecated soon and currently defaults to cpu.\n",
      "The `device` argument should be set by using `torch.device` or passing a string as an argument. This behavior will be deprecated soon and currently defaults to cpu.\n"
     ]
    },
    {
     "name": "stdout",
     "output_type": "stream",
     "text": [
      "Most common source vocabs: [('là', 51451), ('và', 47993), ('một', 40378), ('tôi', 38381), ('những', 37809), ('của', 36330), ('có', 26166), ('bạn', 26111), ('đó', 25229), ('không', 25169)]\n",
      "Source vocab size: 20099\n",
      "Most common english vocabs: [('the', 109723), ('and', 80243), ('to', 65979), ('of', 60510), ('a', 55374), ('that', 49320), ('i', 43629), ('in', 41318), ('it', 39058), ('you', 37438)]\n",
      "English vocab size: 22424\n"
     ]
    }
   ],
   "source": [
    "parser = rnn_encoder_decoder.rnn_encoder_decoder_argparser()\n",
    "args = parser.parse_args([]) # use default settings\n",
    "args.source_lang = \"vi\"\n",
    "args.data = '../data/iwslt-vi-en/'\n",
    "train, val, test, VI, EN = load_data(args)\n",
    "train_iter, val_iter = data.BucketIterator.splits(\n",
    "        (train, val), batch_size=4, device=-1\n",
    ")"
   ]
  },
  {
   "cell_type": "code",
   "execution_count": 19,
   "metadata": {},
   "outputs": [],
   "source": [
    "indices_short_viet = []\n",
    "for each in train_iter.dataset:\n",
    "    if (4.2 < len(each.trg) < 31.3) and (4.1 < len(each.src) < 31.3):\n",
    "        indices_short_viet.append(each.idx)\n",
    "with open(\"../data/iwslt-vi-en/train.tok.en\") as f:\n",
    "    eng = f.readlines()\n",
    "with open(\"../data/iwslt-vi-en/train.tok.vi\") as f:\n",
    "    vi = f.readlines()\n",
    "short_viet_lines, short_eng_lines = [], []\n",
    "for idx in indices_short_viet:\n",
    "    short_viet_lines.append(vi[idx])\n",
    "    short_eng_lines.append(eng[idx])"
   ]
  },
  {
   "cell_type": "code",
   "execution_count": 14,
   "metadata": {},
   "outputs": [],
   "source": [
    "indices_short_viet_dev = []\n",
    "for each in val_iter.dataset:\n",
    "    if (4.2 < len(each.trg) < 31.3) and (4.1 < len(each.src) < 31.3):\n",
    "        indices_short_viet_dev.append(each.idx)\n",
    "with open(\"../data/iwslt-vi-en/dev.tok.en\") as f:\n",
    "    eng_dev = f.readlines()\n",
    "with open(\"../data/iwslt-vi-en/dev.tok.vi\") as f:\n",
    "    vi_dev = f.readlines()\n",
    "short_viet_lines_dev, short_eng_lines_dev = [], []\n",
    "for idx in indices_short_viet_dev:\n",
    "    short_viet_lines_dev.append(vi_dev[idx])\n",
    "    short_eng_lines_dev.append(eng_dev[idx])"
   ]
  },
  {
   "cell_type": "code",
   "execution_count": 20,
   "metadata": {},
   "outputs": [],
   "source": [
    "import pathlib\n",
    "\n",
    "pathlib.Path(\"../data/std1-sentences-vi-en/\").mkdir(parents=True, exist_ok=True)\n",
    "#with open(\"../data/short-sentences-vi-en/dev.tok.en\", \"w\") as f:\n",
    "    #for line in short_eng_lines_dev:\n",
    "        #f.write(line)\n",
    "#with open(\"../data/short-sentences-vi-en/dev.tok.vi\", \"w\") as f:\n",
    "    #for line in short_viet_lines_dev:\n",
    "        #f.write(line)\n",
    "with open(\"../data/std1-sentences-vi-en/train.tok.en\", \"w\") as f:\n",
    "    for line in short_eng_lines:\n",
    "        f.write(line)\n",
    "with open(\"../data/std1-sentences-vi-en/train.tok.vi\", \"w\") as f:\n",
    "    for line in short_viet_lines:\n",
    "        f.write(line)"
   ]
  },
  {
   "cell_type": "code",
   "execution_count": null,
   "metadata": {
    "collapsed": true
   },
   "outputs": [],
   "source": []
  }
 ],
 "metadata": {
  "kernelspec": {
   "display_name": "Python 3",
   "language": "python",
   "name": "python3"
  },
  "language_info": {
   "codemirror_mode": {
    "name": "ipython",
    "version": 3
   },
   "file_extension": ".py",
   "mimetype": "text/x-python",
   "name": "python",
   "nbconvert_exporter": "python",
   "pygments_lexer": "ipython3",
   "version": "3.6.6"
  }
 },
 "nbformat": 4,
 "nbformat_minor": 2
}
