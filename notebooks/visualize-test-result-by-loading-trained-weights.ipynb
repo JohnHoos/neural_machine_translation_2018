{
 "cells": [
  {
   "cell_type": "code",
   "execution_count": 1,
   "metadata": {
    "collapsed": true
   },
   "outputs": [],
   "source": [
    "import argparse\n",
    "import sys\n",
    "sys.path.append('../src')\n",
    "import rnn_encoder_decoder"
   ]
  },
  {
   "cell_type": "code",
   "execution_count": 2,
   "metadata": {},
   "outputs": [
    {
     "name": "stdout",
     "output_type": "stream",
     "text": [
      "Using device cuda\n",
      "Most common source vocabs: [('là', 8210), ('tôi', 3628), ('không', 3530), ('Và', 3413), ('một', 3290), ('có', 2911), ('đó', 2883), ('Tôi', 2827), ('của', 2605), ('này', 2532)]\n",
      "Source vocab size: 6495\n",
      "Most common english vocabs: [('the', 10506), ('it', 7023), ('and', 6401), ('&apos;s', 6272), ('a', 5965), ('to', 5712), ('i', 5688), ('is', 5612), ('you', 5432), ('of', 4902)]\n",
      "English vocab size: 5897\n",
      "0 <unk>\n",
      "0 <unk>\n",
      "1 <pad>\n",
      "1 <pad>\n",
      "2 2\n",
      "2 2\n",
      "3 3\n",
      "3 3\n",
      "4 là\n",
      "4 the\n"
     ]
    },
    {
     "name": "stderr",
     "output_type": "stream",
     "text": [
      "/home/jp4989/anaconda3/envs/nlpclass/lib/python3.6/site-packages/torchtext/data/field.py:321: UserWarning: volatile was removed and now has no effect. Use `with torch.no_grad():` instead.\n",
      "  return Variable(arr, volatile=not train), lengths\n",
      "/home/jp4989/anaconda3/envs/nlpclass/lib/python3.6/site-packages/torchtext/data/field.py:322: UserWarning: volatile was removed and now has no effect. Use `with torch.no_grad():` instead.\n",
      "  return Variable(arr, volatile=not train)\n"
     ]
    },
    {
     "name": "stdout",
     "output_type": "stream",
     "text": [
      "test, step: 0, average loss for current epoch: 3.5552417107348173, batch loss: 3.5552417107348173, average bleu for current epoch: 23.584282729340426, batch bleu: 23.584282729340426\n",
      "test done. average loss for current epoch: 5.620916981245307, average bleu for current epoch: 3.0857183000079975\n",
      "('Cảm_ơn các bạn', 'thank you', 'thank you')\n",
      "('Ôi chúa ơi', 'oh my god', 'oh')\n",
      "('Chúng_ta bắt_đầu nào', 'all right let &apos;s go', 'we start start')\n",
      "('Ồ tại_sao không', 'hey why not', 'why hasn &apos;t')\n",
      "('đọc xong chứ', 'is that all', 'it &apos;s')\n",
      "('Cám_ơn rất nhiều', 'thank you very much', 'thank you very much')\n",
      "('Chúng_ta thích cải_tiến', 'we love innovation', 'we like to')\n",
      "('Như_thế quá vô_lương_tâm', 'it would be unconscionable', 'so it &apos;s too')\n",
      "('chúng_ta không_ngừng mâu_thuẫn', 'we &apos;re constantly running into each other', 'we have a <unk>')\n",
      "('thế_là chúng_ta tách_biệt', 'we &apos;ve been disconnected', 'so we are')\n",
      "('Tôi không biết', 'i don &apos;t know', 'i don &apos;t know')\n",
      "('Lại là linh_cảm', 'my hunches again', 'it &apos;s <unk>')\n",
      "('Về nhà_ở đâu', 'go home to where', 'where is')\n",
      "('Chúng_tôi rất nghèo', 'we were poor', 'we have very happy')\n",
      "('Bjorn Sundin', 'this is bjorn sundin', '<unk> <unk>')\n",
      "('Stephen Watt', 'this is stephen watt', 'stephen <unk> <unk>')\n",
      "('Alfred Gonzalez', 'this is alfred gonzalez', '<unk> <unk>')\n",
      "('Kiếm tiền', 'these guys make money', 'what &apos;s money')\n",
      "('Xin cảm_ơn', 'thank you', 'thank you')\n",
      "('Khá đơn_giản', 'pretty simple', 'it &apos;s pretty')\n",
      "('Được rồi', 'okay', 'okay')\n",
      "('Ohhhhh wowwww', 'ohhhhh wowwww', '<unk> <unk>')\n",
      "('Thật đấy', 'it &apos;s true', 'it &apos;s')\n",
      "('1000 tuyệt_vời', '1,000 very good', 'fantastic')\n",
      "('Được rồi', 'all right', 'okay')\n",
      "('Đầu_tiên Cắt_giảm', 'the first cut', 'first first')\n",
      "('thích giải_trí', 'we love entertainment', 'like the <unk>')\n",
      "('Cảm_ơn', 'thank you', 'thank you')\n",
      "('Không', 'no', 'no')\n",
      "('Ohhh', 'ohhhh', '<unk>')\n",
      "('Wooo', 'wooo', '<unk>')\n",
      "('Cảm_ơn', 'thank you', 'thank you')\n"
     ]
    }
   ],
   "source": [
    "parser = rnn_encoder_decoder.rnn_encoder_decoder_argparser()\n",
    "args = parser.parse_args([]) # use default settings\n",
    "args.source_lang = 'vi'\n",
    "args.data = '../data/short-sentences-vi-en/'\n",
    "args.num_encoder_layers = 1\n",
    "args.num_decoder_layers = 1\n",
    "args.test = True\n",
    "args.relu = True\n",
    "#args.cpu = True\n",
    "# load best weight of this experiment\n",
    "args.model_weights_path = '../model_weights/short/5'\n",
    "loss, bleu, test_source_list, test_reference_list, translation_output_list = rnn_encoder_decoder.run(args)\n",
    "for triplet in zip(test_source_list[0], test_reference_list[0], translation_output_list[0]):\n",
    "    print(triplet)"
   ]
  },
  {
   "cell_type": "code",
   "execution_count": 4,
   "metadata": {
    "scrolled": false
   },
   "outputs": [
    {
     "name": "stdout",
     "output_type": "stream",
     "text": [
      "('Sau_đây là một ví_dụ', 'so here &apos;s another example', 'here &apos;s a example example')\n",
      "('Điều đó thật quan_trọng', 'and that &apos;s important', 'it &apos;s very important')\n",
      "('Hãy nói đến Al', 'so meet al', 'stretch participate')\n",
      "('Xin cám_ơn các bạn', 'thank you', 'thank you')\n",
      "('Công_nghệ Mặt_Trời là ...', 'solar technology is ...', 'the technology is <unk>')\n",
      "('Hở Xin chờ một_chút', 'huh hang on a moment', 'celebrate <unk>')\n",
      "('Điều này có_nghĩa gì', 'what does it mean', 'what does this')\n",
      "('Nó chỉ như thế_này', 'it &apos;s this just like this', 'it &apos;s just like this')\n",
      "('Và vấn_đề là đây', 'and here &apos;s the thing', 'and the problem is')\n",
      "('Và tôi quay_lại làm_việc', 'and i went back to work', 'and i work with')\n",
      "('Và tôi cứ tự_hỏi', 'and i kept asking myself these questions', 'and i &apos;m the')\n",
      "('Để tôi khái_quát lại', 'so let me recap', 'i &apos;m going to')\n",
      "('Chúng_tôi đang thua họ', 'we &apos;re losing them', 'we &apos;re them them')\n",
      "('Bạn thật bận_rộn đó', 'how engaged you are', 'you you you')\n",
      "('tốt có vài người', 'okay there &apos;s some', 'ten some people')\n",
      "('chúng vẫn rất yên_ổn', 'they were still kind of happy', 'they &apos;re still very')\n",
      "('Tôi đến phòng xử_án', 'well i went into the courtroom', 'i went to <unk>')\n",
      "('Tôi không tin như_thế', 'i don &apos;t believe that', 'i don &apos;t believe that')\n",
      "('yêu công_nghệ thích sáng_tạo', 'we love technology we love creativity', 'technology becomes <unk>')\n",
      "('Tôi không_thể làm_ngơ được', 'i couldn &apos;t bear it', 'i can &apos;t be')\n",
      "('không_phải gánh_nặng của chúng_ta', 'it &apos;s not our burden', 'we don &apos;t <unk> our <unk>')\n",
      "('Các chị không_hề buông_tay', '&quot; you have not let it go &quot;', 'you don &apos;t have a <unk>')\n",
      "('sau có_một chuyến đi', 'after only one trip', 'maybe a six a <unk>')\n",
      "('Các trung_tâm được thành_lập', 'centers were established', '<unk> <unk> <unk>')\n",
      "('Ông rút_lui vào yên_lặng', 'he retreated into silence', 'he was published in six')\n",
      "('Câu_chuyện này chưa kết_thúc', 'this is not a finished story', 'this this is not a story')\n",
      "('Cám_ơn các bạn', 'thank you', 'thank you')\n",
      "('Cám_ơn các bạn', 'thank you', 'thank you')\n",
      "('Scott nói_chuyện trực_tiếp', 'so scott was speaking person-to-person', 'the <unk> of')\n",
      "('Họ chưa từ_bỏ', 'they haven &apos;t given up on government', 'they don &apos;t')\n",
      "('Nó lan_truyền rộng_rãi', 'it &apos;s spreading virally', 'it &apos;s')\n",
      "('Chúng_ta đang cất_cánh', 'we &apos;re taking off', 'we &apos;re losing <unk>')\n",
      "('Và tôi thuộc_làu mọi thứ', 'and i memorized everything', 'and i was <unk>')\n",
      "('Và thế_là tôi cố hoàn_hảo', 'and so i did', 'so i &apos;m me')\n",
      "('Và đạt chỉ_số những 257', 'and she &apos;s hitting a 257', 'and the <unk> <unk> <unk>')\n",
      "('Đó là chỉ_số đập bóng', 'it &apos;s called batting average', 'that &apos;s the')\n",
      "('Cảm_ơn các bạn rất nhiều', 'thank you very much', 'thank you very much')\n",
      "('Động_cơ sang_số Có 4 lựa_chọn', 'engines gearshift -- four choices', 'the main <unk> <unk> four')\n",
      "('Kĩ_thuật thứ 3 Sự phân_loại', 'the third technique categorization', '<unk> third <unk>')\n",
      "('Đây là miêu_tả của con_người', 'here &apos;s a description of the road', 'this is the human')\n",
      "('Nó vẫn chưa bị ngộp', 'it was not drowned yet', 'it hasn &apos;t going to be')\n",
      "('Còn có rất nhiều cá', 'there were still fishes', 'and there &apos;s a lot')\n",
      "('Chúng_ta vẫn nghĩ nó còn_nguyên_sơ', 'we still think it is pristine', 'we &apos;re simply to it <unk>')\n",
      "('Cảm_ơn các bạn rất nhiều', 'thank you very much', 'thank you very much')\n",
      "('Ông cứ đi_tới đi lui', 'he kept pacing back and forth', 'he went to deliver')\n",
      "('thì thầm vào tai tôi', 'and he whispered in my ear', 'my <unk> was me')\n",
      "('Thỉnh_thoảng khi tôi cố quá_sức', 'i sometimes push too hard', 'sometimes i simply to me')\n",
      "('giảm thiểu_số người bị bỏ_tù', 'we &apos;re trying to reduce the prison population', '<unk> <unk> <unk> <unk>')\n",
      "('Thế_là tôi bắt_đầu nói huyên_thuyên', 'and i began giving her my rap', 'so i started to <unk>')\n",
      "('tôi nói Tôi sẽ lắng_nghe', 'i said &quot; i &apos;m going to listen &quot;', 'i said &quot; &quot; going to show you &quot;')\n",
      "('đến những điều vừa nêu', 'it will get to you', 'it &apos;s just to be')\n",
      "('và vì_thế có sự ngăn_cách', 'and yet there is this disconnect', 'and there is the')\n",
      "('họ lo_sợ bị ném bom', 'they had to worry about being bombed', 'they have <unk>')\n",
      "('ý tôi là thật khó_tin', 'i mean it &apos;s fascinating', 'i &apos;m a very expensive')\n",
      "('Lúc đấy tôi thấy thất_vọng', 'i was devastated', 'i see that i')\n",
      "('Tôi nói dạ được ạ', 'i said &quot; okay mama &quot;', 'i said &quot; &quot; <unk> &quot;')\n",
      "('Thất_bại sẽ đến một_cách dễ_dàng', 'defeat would have come too easily', 'the will be to be')\n",
      "('Tôi quyết_định chuyển tới_nước Mỹ', 'i made the decision to move to the u.s.', 'i decided to to the <unk> the united nations')\n",
      "('Chúng_tôi làm_việc đến đêm khuya', 'we worked well into each night', 'we took to to the <unk>')\n",
      "('Tôi không biết các qui_trình', 'i didn &apos;t know the protocols', 'i don &apos;t know know')\n",
      "('Ông là ông của tôi', 'he is my grandfather', 'he was my grandfather')\n",
      "('Ông qua_đời bị lịch_sử quật_ngã', 'he died broken by history', 'he was delighted to the <unk>')\n",
      "('Từ những tội_phạm mạng', 'we have online criminals', 'the kids are')\n",
      "('Có ba nguồn tấn_công_chính', 'we have three main groups', 'there are three <unk>')\n"
     ]
    }
   ],
   "source": [
    "for i in range(1, 3):\n",
    "    for triplet in zip(test_source_list[i], test_reference_list[i], translation_output_list[i]):\n",
    "        print(triplet)"
   ]
  },
  {
   "cell_type": "code",
   "execution_count": 9,
   "metadata": {},
   "outputs": [
    {
     "name": "stdout",
     "output_type": "stream",
     "text": [
      "Using device cuda\n",
      "Most common source vocabs: [('的', 3925), ('我', 3262), ('是', 3127), ('这', 2377), ('了', 1938), ('我们', 1417), ('谢谢', 1356), ('你', 1340), ('它', 756), ('什么', 754)]\n",
      "Source vocab size: 3208\n",
      "Most common english vocabs: [('you', 3654), ('it', 3517), ('the', 3275), ('&apos;s', 3208), ('i', 2877), ('and', 2576), ('is', 2350), ('that', 2311), ('a', 2121), ('to', 1972)]\n",
      "English vocab size: 2592\n",
      "0 <unk>\n",
      "0 <unk>\n",
      "1 <pad>\n",
      "1 <pad>\n",
      "2 2\n",
      "2 2\n",
      "3 3\n",
      "3 3\n",
      "4 的\n",
      "4 you\n"
     ]
    },
    {
     "name": "stderr",
     "output_type": "stream",
     "text": [
      "/home/jp4989/anaconda3/envs/nlpclass/lib/python3.6/site-packages/torchtext/data/field.py:321: UserWarning: volatile was removed and now has no effect. Use `with torch.no_grad():` instead.\n",
      "  return Variable(arr, volatile=not train), lengths\n",
      "/home/jp4989/anaconda3/envs/nlpclass/lib/python3.6/site-packages/torchtext/data/field.py:322: UserWarning: volatile was removed and now has no effect. Use `with torch.no_grad():` instead.\n",
      "  return Variable(arr, volatile=not train)\n"
     ]
    },
    {
     "name": "stdout",
     "output_type": "stream",
     "text": [
      "test, step: 0, average loss for current epoch: 3.167640949117726, batch loss: 3.167640949117726, average bleu for current epoch: 20.387319347113795, batch bleu: 20.387319347113795\n",
      "test done. average loss for current epoch: 5.4822523359166615, average bleu for current epoch: 1.6019118270888826\n",
      "('你 可得 学着点', 'you should ask for some of that', 'you you <unk>')\n",
      "('我们 爱 娱乐', 'we love entertainment', 'we love the <unk>')\n",
      "('我们 正在 起飞', 'we &apos;re taking off', 'we &apos;re becoming <unk>')\n",
      "('再 做 一次', 'score them again', 'and')\n",
      "('就 这么 简单', 'pretty simple', 'it &apos;s simple')\n",
      "('晚安 小负 负鼠', 'goodnight sweet opossum &quot;', '<unk> <unk>')\n",
      "('这 是 Al', 'so meet al', 'it &apos;s <unk>')\n",
      "('哈 等 一下', 'huh hang on a moment', 'and of course we')\n",
      "('但 还有 一点', 'but there &apos;s another thing', 'but there &apos;s a')\n",
      "('还是 关于 光线', 'is it something about the light', 'and <unk>')\n",
      "('我 不知 知道', 'i don &apos;t know', 'i don &apos;t know')\n",
      "('你 从未 放手', '&quot; you have not let it go &quot;', 'you &apos;ve <unk> <unk>')\n",
      "('没有 任何 选择', 'no had never been an option', 'there &apos;s no <unk>')\n",
      "('建立 了 中心', 'centers were established', 'and <unk> <unk>')\n",
      "('回家 回到 哪儿', 'go home to where', 'where where the')\n",
      "('这 是 真的', 'it &apos;s true', 'it &apos;s real')\n",
      "('谢谢 大家', 'thank you', 'thank you very')\n",
      "('重点 是', 'and here &apos;s the thing', 'the <unk> <unk>')\n",
      "('谢谢 大家', 'thank you', 'thank you very')\n",
      "('谢谢 大家', 'thank you very much', 'thank you very much')\n",
      "('好 吧', 'okay', 'okay')\n",
      "('这 不是', 'this is not ...', 'it &apos;s not')\n",
      "('不要 啊', 'no', 'don &apos;t')\n",
      "('谢谢 大家', 'thank you', 'thank you very')\n",
      "('谢谢 大家', 'thank you', 'thank you very')\n",
      "('不会 讲话', 'i didn &apos;t know how to talk about anything', 'it wouldn &apos;t <unk>')\n",
      "('我们 很穷', 'we were poor', 'we &apos;re <unk>')\n",
      "('噢 哇塞', 'ohhhhh wowwww', 'oh 1')\n",
      "('谢谢', 'thank you', 'thank you')\n",
      "('谢谢', 'thank you', 'thank you')\n",
      "('噢', 'ohhhh', 'oh 1')\n",
      "('呜', 'wooo', '<unk>')\n"
     ]
    }
   ],
   "source": [
    "parser = rnn_encoder_decoder.rnn_encoder_decoder_argparser()\n",
    "args = parser.parse_args([]) # use default settings\n",
    "args.source_lang = 'zh'\n",
    "args.data = '../data/short-sentences-zh-en/'\n",
    "args.num_encoder_layers = 1\n",
    "args.num_decoder_layers = 1\n",
    "args.test = True\n",
    "args.relu = True\n",
    "args.split_chinese_into_characters = False\n",
    "#args.cpu = True\n",
    "# load best weight of this experiment\n",
    "args.model_weights_path = '../model_weights/short/0'\n",
    "loss, bleu, test_source_list, test_reference_list, translation_output_list = rnn_encoder_decoder.run(args)\n",
    "for triplet in zip(test_source_list[0], test_reference_list[0], translation_output_list[0]):\n",
    "    print(triplet)"
   ]
  },
  {
   "cell_type": "code",
   "execution_count": 10,
   "metadata": {},
   "outputs": [
    {
     "name": "stdout",
     "output_type": "stream",
     "text": [
      "('我 这个 伤心 呀', 'i was devastated', 'i i <unk> <unk>')\n",
      "('我 哥哥 盯住 我', 'and then my brother started staring at me', 'i i <unk>')\n",
      "('我 永远 忘不掉 不掉', 'i never will forget it', 'i i <unk>')\n",
      "('很 荣幸 来到 这里', 'well this is a really extraordinary honor for me', 'it &apos;s <unk>')\n",
      "('它们 很 抽象 奇怪', 'they &apos;re obscure weird programs', 'they &apos;re abstract')\n",
      "('可能 引入 一些 突变', 'introduce some mutations perhaps', 'some <unk> <unk> <unk>')\n",
      "('这些 就是 神经 结构', 'and those are the neural structures', 'and these are <unk>')\n",
      "('这 就是 所有 可能', 'that &apos;s about all it can do', 'and that &apos;s the')\n",
      "('两件 两件事 会 发生', 'one of two things is going to happen', 'there things are things')\n",
      "('麻烦 开 一下 灯', 'so if you could bring up the lights', 'nm the <unk>')\n",
      "('这 其中 有点 奇特', 'something really weird is going on here', 'it &apos;s &apos;s little list')\n",
      "('他们 没有 放弃 政府', 'they haven &apos;t given up on government', 'they don &apos;t <unk>')\n",
      "('而 这 非常 重要', 'and that &apos;s important', 'and this is important')\n",
      "('太阳 太阳能 技术 是', 'solar technology is ...', 'technology is technology')\n",
      "('当然 还有 快餐 快餐店', 'and sure we could find fast food chains', 'and of course course course of course')\n",
      "('这 有 个 开关', 'it &apos;s got one knob on off', 'and &apos;s a <unk> <unk>')\n",
      "('在 一次 旅行 后', 'after only one trip', 'it &apos;s actually')\n",
      "('我 觉得 搬到 美国', 'i made the decision to move to the u.s.', 'i wish to')\n",
      "('每晚 都 努力 工作', 'we worked well into each night', 'it work in <unk>')\n",
      "('跟随 我 的 预感', 'so i followed my hunches', '<unk> <unk> my <unk>')\n",
      "('我 不知 知道 协议', 'i didn &apos;t know the protocols', 'i don &apos;t know')\n",
      "('他 沉默 以 对', 'he retreated into silence', 'he he &apos;s')\n",
      "('凯文 这 意味 什么', 'what does it mean', 'what does this matter')\n",
      "('就是 这个 只是 这样', 'it &apos;s this just like this', 'that &apos;s just just')\n",
      "('噢 我 的 上帝', 'oh my god', 'oh my god')\n",
      "('出具 伪劣 证书', 'and issue rogue certificates', '<unk> <unk>')\n",
      "('他们 卖 证书', 'they sell certificates', 'they they <unk>')\n",
      "('十成 非常 好', '1,000 very good', '<unk> <unk>')\n",
      "('叫做 击球 率', 'it &apos;s called batting average', 'it &apos;s called <unk>')\n",
      "('他们 想要 什么', 'what will these people want', 'what do they want want to')\n",
      "('但 事实 或许', 'but perhaps that &apos;s not the case', 'but it &apos;s')\n",
      "('危机 死亡 灾难', 'crisis death disaster', '&#91; ant ant <unk>')\n",
      "('这里 还有 一个 个例 例子', 'so here &apos;s another example', 'here here an an example')\n",
      "('失败 来 的 太 容易', 'defeat would have come too easily', 'it &apos;s it')\n",
      "('由 母亲 独自 自养 养大', 'her mother raised her alone', 'the <unk> <unk> <unk> <unk>')\n",
      "('不会 会谈 谈论 葡萄 葡萄酒', 'i didn &apos;t know how to talk about wine', 'they don &apos;t talk about <unk>')\n",
      "('不知 知道 如何 何用 刀具', 'i didn &apos;t know how to use the cutlery', 'how don &apos;t do <unk> <unk>')\n",
      "('但是 如此 多年 的 帮助', 'but so many over the years were helped', 'but the <unk> did')\n",
      "('寻求 资金 金和 资助 助人', 'grants and sponsors were sought', 'it <unk> <unk>')\n",
      "('他 就是 我 的 祖父', 'he is my grandfather', 'and he was a <unk>')\n",
      "('作为 历史 他 已经 死去', 'he died broken by history', 'he died over feet feet')\n",
      "('面对 朋友 们 的 嘲笑', 'words for so long his friends now mocked him', '<unk> <unk> <unk> <unk>')\n",
      "('一个 不断 延续 的 故事', 'this is not a finished story', 'the architecture is a story')\n",
      "('然后 走 国际 国际版 路线', 'and then it went international', 'and then came back to the')\n",
      "('还 制作 了 混音 混音版', 'there were remixes', 'it &apos;s also <unk>')\n",
      "('就是 吉米 吉 梅 尔', 'jimmy kimmel actually', '<unk> <unk> <unk> <unk>')\n",
      "('好 的 让 我们 看看', 'all right let &apos;s go', 'okay let &apos;s')\n",
      "('隐私 是 不言 不言而喻', 'privacy is implied', 'it &apos;s <unk>')\n",
      "('这 是 斯蒂芬 瓦特', 'this is stephen watt', 'this is a <unk>')\n",
      "('这些 家伙 为了 赚钱', 'these guys make money', 'that &apos;s a little list')\n",
      "('我们 有 在线 罪犯', 'we have online criminals', 'we have <unk> <unk>')\n",
      "('她 的确 回来 了', 'well she was back all right', 'she &apos;s like')\n",
      "('为什么 什么 不 呢', 'hey why not', 'why is not')\n",
      "('有 一种 纳米 科技', 'there &apos;s nanotechnology coming on nanomaterials', 'there &apos;s <unk> <unk>')\n",
      "('他 是 左边 这位', 'he &apos;s the dude on the left', 'he &apos;s the the left')\n",
      "('再 看 这个 曲线', 'now look at this curve', 'and can see the <unk>')\n",
      "('我 上车 开到 法庭', 'and i got in my car and i went to this courthouse', 'i i <unk>')\n",
      "('我 有时 工作 太多', 'i sometimes push too hard', 'i i have some of the')\n",
      "('我 不 相信 这个', 'i don &apos;t believe that', 'i don &apos;t believe it')\n",
      "('它 会 影响 你', 'it will get to you', 'it &apos;s it you')\n",
      "('我们 爱 极了 革新', 'we love innovation', 'we love love love')\n",
      "('我 无法 无法忍受 忍受', 'i couldn &apos;t bear it', 'i can &apos;t to <unk>')\n",
      "('世界 上 独一 一份', 'the only country in the world', '<unk> <unk> the <unk>')\n",
      "('高高 高高挂 高高挂起 挂起', 'we &apos;ve been disconnected', '<unk> <unk>')\n"
     ]
    }
   ],
   "source": [
    "for i in range(1, 3):\n",
    "    for triplet in zip(test_source_list[i], test_reference_list[i], translation_output_list[i]):\n",
    "        print(triplet)"
   ]
  },
  {
   "cell_type": "code",
   "execution_count": null,
   "metadata": {
    "collapsed": true
   },
   "outputs": [],
   "source": []
  }
 ],
 "metadata": {
  "kernelspec": {
   "display_name": "Python [conda env:nlpclass]",
   "language": "python",
   "name": "conda-env-nlpclass-py"
  },
  "language_info": {
   "codemirror_mode": {
    "name": "ipython",
    "version": 3
   },
   "file_extension": ".py",
   "mimetype": "text/x-python",
   "name": "python",
   "nbconvert_exporter": "python",
   "pygments_lexer": "ipython3",
   "version": "3.6.6"
  }
 },
 "nbformat": 4,
 "nbformat_minor": 2
}
