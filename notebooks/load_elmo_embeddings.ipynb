{
 "cells": [
  {
   "cell_type": "code",
   "execution_count": 42,
   "metadata": {},
   "outputs": [],
   "source": [
    "import argparse\n",
    "import sys\n",
    "sys.path.append('../src')\n",
    "import loader\n",
    "import rnn_encoder_decoder\n",
    "from torchtext import data\n",
    "import torch\n",
    "from collections import Counter\n",
    "#import matplotlib.pyplot as plt\n",
    "#%matplotlib inline\n",
    "import torch.nn as nn\n",
    "import numpy as np"
   ]
  },
  {
   "cell_type": "code",
   "execution_count": 4,
   "metadata": {},
   "outputs": [],
   "source": [
    "from elmoformanylangs import Embedder"
   ]
  },
  {
   "cell_type": "code",
   "execution_count": 9,
   "metadata": {},
   "outputs": [],
   "source": [
    "torch.cuda.set_device(1)"
   ]
  },
  {
   "cell_type": "code",
   "execution_count": 10,
   "metadata": {},
   "outputs": [],
   "source": [
    "chinese_embedder = Embedder('../../ELMoForManyLangs/179')"
   ]
  },
  {
   "cell_type": "code",
   "execution_count": 13,
   "metadata": {},
   "outputs": [],
   "source": [
    "# FileNotFoundError: [Errno 2] No such file or directory: \n",
    "# '/Users/yijialiu/work/projects/conll2018/models/word_elmo/cnn_50_100_512_4096_sample.json'\n",
    "vietnamese_embedder = Embedder('../../ELMoForManyLangs/178')\n",
    "# FileNotFoundError: [Errno 2] No such file or directory: \n",
    "# '/Users/yijialiu/work/projects/conll2018/models/word_elmo/cnn_50_100_512_4096_sample.json'\n",
    "english_embedder = Embedder('../../ELMoForManyLangs/144')"
   ]
  },
  {
   "cell_type": "code",
   "execution_count": 14,
   "metadata": {},
   "outputs": [],
   "source": [
    "simplified_chinese_embedder = Embedder('../../ELMoForManyLangs/zhs.model')"
   ]
  },
  {
   "cell_type": "code",
   "execution_count": 15,
   "metadata": {},
   "outputs": [],
   "source": [
    "# MUST USE GPU (?)\n",
    "parser = rnn_encoder_decoder.rnn_encoder_decoder_argparser()\n",
    "args = parser.parse_args([])\n",
    "args.cpu = True\n",
    "args.split_chinese_into_characters = False"
   ]
  },
  {
   "cell_type": "code",
   "execution_count": 16,
   "metadata": {},
   "outputs": [
    {
     "name": "stdout",
     "output_type": "stream",
     "text": [
      "Most common source vocabs: [('的', 272264), ('我', 83174), ('是', 71290), ('我们', 68696), ('在', 55727), ('了', 52197), ('你', 40824), ('这', 36049), ('一个', 33590), ('他们', 25256)]\n",
      "Source vocab size: 47127\n",
      "Most common english vocabs: [('the', 178698), ('and', 128020), ('to', 106119), ('of', 98919), ('a', 90534), ('that', 80454), ('i', 68877), ('in', 66951), ('it', 64198), ('you', 61161)]\n",
      "English vocab size: 28791\n"
     ]
    }
   ],
   "source": [
    "train_data, val_data, test_data, src, trg = loader.load_data(args)"
   ]
  },
  {
   "cell_type": "code",
   "execution_count": 57,
   "metadata": {},
   "outputs": [
    {
     "name": "stdout",
     "output_type": "stream",
     "text": [
      "Most common source vocabs: [('的', 281920), ('我', 154809), ('一', 124419), ('是', 124104), ('们', 120231), ('这', 97418), ('个', 84887), ('在', 80827), ('有', 73956), ('人', 63944)]\n",
      "Source vocab size: 4168\n",
      "Most common english vocabs: [('the', 178698), ('and', 128020), ('to', 106119), ('of', 98919), ('a', 90534), ('that', 80454), ('i', 68877), ('in', 66951), ('it', 64198), ('you', 61161)]\n",
      "English vocab size: 28791\n"
     ]
    }
   ],
   "source": [
    "parser = rnn_encoder_decoder.rnn_encoder_decoder_argparser()\n",
    "args = parser.parse_args([])\n",
    "args.cpu = True\n",
    "args.split_chinese_into_characters = True\n",
    "c_train_data, c_val_data, c_test_data, c_src, c_trg = loader.load_data(args)"
   ]
  },
  {
   "cell_type": "code",
   "execution_count": 74,
   "metadata": {},
   "outputs": [
    {
     "name": "stdout",
     "output_type": "stream",
     "text": [
      "Most common source vocabs: [('là', 51451), ('và', 47993), ('một', 40378), ('tôi', 38381), ('những', 37809), ('của', 36330), ('có', 26166), ('bạn', 26111), ('đó', 25229), ('không', 25169)]\n",
      "Source vocab size: 20099\n",
      "Most common english vocabs: [('the', 109723), ('and', 79673), ('to', 65979), ('of', 60510), ('a', 55374), ('that', 49320), ('i', 43629), ('in', 41318), ('it', 39058), ('you', 37438)]\n",
      "English vocab size: 22429\n"
     ]
    }
   ],
   "source": [
    "parser = rnn_encoder_decoder.rnn_encoder_decoder_argparser()\n",
    "args = parser.parse_args([])\n",
    "args.cpu = True\n",
    "args.source_lang = 'vi'\n",
    "args.data = '../data/iwslt-vi-en/'\n",
    "v_train_data, v_val_data, v_test_data, v_src, v_trg = loader.load_data(args)"
   ]
  },
  {
   "cell_type": "code",
   "execution_count": 55,
   "metadata": {},
   "outputs": [],
   "source": [
    "def save_embedding(lang, given_embedder, output_name):\n",
    "    batched_itos = []\n",
    "\n",
    "    for i in range(len(lang.vocab.itos)):\n",
    "        if i % 32 == 0:\n",
    "            if i != 0:\n",
    "                batched_itos.append(current_batch)\n",
    "            current_batch = []\n",
    "        current_batch.append(lang.vocab.itos[i])\n",
    "    batched_itos.append(current_batch)\n",
    "    \n",
    "    # change the vectors\n",
    "    batched_itos[0][0], batched_itos[0][1], batched_itos[0][2], batched_itos[0][3] = '<oov>', '<pad>', '<bos>', '<eos>'\n",
    "    \n",
    "    torch.cuda.set_device(1)\n",
    "    tokenized_itos = given_embedder.sents2elmo(batched_itos, output_layer=0)\n",
    "    \n",
    "    embedding = nn.Embedding(\n",
    "            len(lang.vocab.itos), \n",
    "            1024, \n",
    "            padding_idx = 1\n",
    "        )\n",
    "    concatenated = np.concatenate(tokenized_itos)\n",
    "    for i, each in enumerate(concatenated):\n",
    "        if np.array_equal(each, concatenated[0]):\n",
    "            print(i)\n",
    "    \n",
    "    embedding.load_state_dict({'weight': torch.FloatTensor(concatenated)})\n",
    "    torch.save(embedding.state_dict(), output_name)\n",
    "    \n"
   ]
  },
  {
   "cell_type": "code",
   "execution_count": 56,
   "metadata": {},
   "outputs": [
    {
     "name": "stdout",
     "output_type": "stream",
     "text": [
      "0\n",
      "0\n",
      "0\n"
     ]
    }
   ],
   "source": [
    "save_embedding(src, chinese_embedder, 'zh_en_chinese_words_traditional.pt')\n",
    "save_embedding(src, simplified_chinese_embedder, 'zh_en_chinese_words_simplified.pt')\n",
    "save_embedding(trg, english_embedder, 'zh_en_english_words.pt')"
   ]
  },
  {
   "cell_type": "code",
   "execution_count": 58,
   "metadata": {},
   "outputs": [
    {
     "name": "stdout",
     "output_type": "stream",
     "text": [
      "0\n",
      "0\n"
     ]
    }
   ],
   "source": [
    "save_embedding(c_src, chinese_embedder, 'zh_en_chinese_chars_traditional.pt')\n",
    "save_embedding(c_src, simplified_chinese_embedder, 'zh_en_chinese_chars_simplified.pt')"
   ]
  },
  {
   "cell_type": "code",
   "execution_count": 75,
   "metadata": {},
   "outputs": [
    {
     "name": "stdout",
     "output_type": "stream",
     "text": [
      "0\n",
      "0\n"
     ]
    }
   ],
   "source": [
    "save_embedding(v_src, vietnamese_embedder, 'vi_en_vietnamese_words.pt')\n",
    "save_embedding(v_trg, english_embedder, 'vi_en_english_words.pt')"
   ]
  },
  {
   "cell_type": "code",
   "execution_count": 76,
   "metadata": {},
   "outputs": [
    {
     "name": "stdout",
     "output_type": "stream",
     "text": [
      "Most common source vocabs: [('là', 8210), ('tôi', 3628), ('không', 3530), ('Và', 3413), ('một', 3290), ('có', 2911), ('đó', 2883), ('Tôi', 2827), ('của', 2605), ('này', 2532)]\n",
      "Source vocab size: 6495\n",
      "Most common english vocabs: [('the', 10506), ('it', 7023), ('and', 6401), ('&apos;s', 6272), ('a', 5965), ('to', 5712), ('i', 5688), ('is', 5612), ('you', 5432), ('of', 4902)]\n",
      "English vocab size: 5897\n"
     ]
    }
   ],
   "source": [
    "parser = rnn_encoder_decoder.rnn_encoder_decoder_argparser()\n",
    "args = parser.parse_args([])\n",
    "args.cpu = True\n",
    "args.source_lang = 'vi'\n",
    "args.data = '../data/short-sentences-vi-en/'\n",
    "sv_train_data, sv_val_data, sv_test_data, sv_src, sv_trg = loader.load_data(args)"
   ]
  },
  {
   "cell_type": "code",
   "execution_count": 77,
   "metadata": {},
   "outputs": [
    {
     "name": "stdout",
     "output_type": "stream",
     "text": [
      "Most common source vocabs: [('是', 4844), ('我', 4737), ('的', 4194), ('这', 4076), ('谢', 3401), ('们', 2736), ('了', 2164), ('不', 1997), ('一', 1866), ('有', 1852)]\n",
      "Source vocab size: 2042\n",
      "Most common english vocabs: [('you', 3654), ('it', 3517), ('the', 3275), ('&apos;s', 3208), ('i', 2877), ('and', 2576), ('is', 2350), ('that', 2311), ('a', 2121), ('to', 1972)]\n",
      "English vocab size: 2592\n"
     ]
    }
   ],
   "source": [
    "parser = rnn_encoder_decoder.rnn_encoder_decoder_argparser()\n",
    "args = parser.parse_args([])\n",
    "args.cpu = True\n",
    "args.split_chinese_into_characters = True\n",
    "args.data = '../data/short-sentences-zh-en/'\n",
    "sc_train_data, sc_val_data, sc_test_data, sc_src, sc_trg = loader.load_data(args)"
   ]
  },
  {
   "cell_type": "code",
   "execution_count": 78,
   "metadata": {},
   "outputs": [
    {
     "name": "stdout",
     "output_type": "stream",
     "text": [
      "Most common source vocabs: [('的', 3925), ('我', 3262), ('是', 3127), ('这', 2377), ('了', 1938), ('我们', 1417), ('谢谢', 1356), ('你', 1340), ('它', 756), ('什么', 754)]\n",
      "Source vocab size: 3208\n",
      "Most common english vocabs: [('you', 3654), ('it', 3517), ('the', 3275), ('&apos;s', 3208), ('i', 2877), ('and', 2576), ('is', 2350), ('that', 2311), ('a', 2121), ('to', 1972)]\n",
      "English vocab size: 2592\n"
     ]
    }
   ],
   "source": [
    "parser = rnn_encoder_decoder.rnn_encoder_decoder_argparser()\n",
    "args = parser.parse_args([])\n",
    "args.cpu = True\n",
    "args.split_chinese_into_characters = False\n",
    "args.data = '../data/short-sentences-zh-en/'\n",
    "s_train_data, s_val_data, s_test_data, s_src, s_trg = loader.load_data(args)"
   ]
  },
  {
   "cell_type": "code",
   "execution_count": 79,
   "metadata": {},
   "outputs": [
    {
     "name": "stdout",
     "output_type": "stream",
     "text": [
      "0\n",
      "0\n",
      "0\n",
      "0\n",
      "0\n",
      "0\n",
      "0\n"
     ]
    }
   ],
   "source": [
    "save_embedding(s_src, chinese_embedder, 'short_sentences_zh_en_chinese_words_traditional.pt')\n",
    "save_embedding(s_src, simplified_chinese_embedder, 'short_sentences_zh_en_chinese_words_simplified.pt')\n",
    "save_embedding(s_trg, english_embedder, 'short_sentences_zh_en_english_words.pt')\n",
    "save_embedding(sc_src, chinese_embedder, 'short_sentences_zh_en_chinese_chars_traditional.pt')\n",
    "save_embedding(sc_src, simplified_chinese_embedder, 'short_sentences_zh_en_chinese_chars_simplified.pt')\n",
    "save_embedding(sv_src, vietnamese_embedder, 'short_sentences_vi_en_vietnamese_words.pt')\n",
    "save_embedding(sv_trg, english_embedder, 'short_sentences_vi_en_english_words.pt')"
   ]
  },
  {
   "cell_type": "code",
   "execution_count": 80,
   "metadata": {},
   "outputs": [
    {
     "name": "stdout",
     "output_type": "stream",
     "text": [
      "Most common source vocabs: [('là', 8210), ('tôi', 3628), ('không', 3530), ('Và', 3413), ('một', 3290), ('có', 2911), ('đó', 2883), ('Tôi', 2827), ('của', 2605), ('này', 2532)]\n",
      "Source vocab size: 6495\n",
      "Most common english vocabs: [('the', 10506), ('it', 7023), ('and', 6401), ('&apos;s', 6272), ('a', 5965), ('to', 5712), ('i', 5688), ('is', 5612), ('you', 5432), ('of', 4902)]\n",
      "English vocab size: 5897\n"
     ]
    }
   ],
   "source": [
    "parser = rnn_encoder_decoder.rnn_encoder_decoder_argparser()\n",
    "args = parser.parse_args([])\n",
    "args.cpu = True\n",
    "args.source_lang = 'vi'\n",
    "args.data = '../data/short-sentences-vi-en/'\n",
    "smallv_train_data, smallv_val_data, smallv_test_data, smallv_src, smallv_trg = loader.load_data(args)"
   ]
  },
  {
   "cell_type": "code",
   "execution_count": 81,
   "metadata": {},
   "outputs": [
    {
     "name": "stdout",
     "output_type": "stream",
     "text": [
      "Most common source vocabs: [('是', 4844), ('我', 4737), ('的', 4194), ('这', 4076), ('谢', 3401), ('们', 2736), ('了', 2164), ('不', 1997), ('一', 1866), ('有', 1852)]\n",
      "Source vocab size: 2042\n",
      "Most common english vocabs: [('you', 3654), ('it', 3517), ('the', 3275), ('&apos;s', 3208), ('i', 2877), ('and', 2576), ('is', 2350), ('that', 2311), ('a', 2121), ('to', 1972)]\n",
      "English vocab size: 2592\n"
     ]
    }
   ],
   "source": [
    "parser = rnn_encoder_decoder.rnn_encoder_decoder_argparser()\n",
    "args = parser.parse_args([])\n",
    "args.cpu = True\n",
    "args.split_chinese_into_characters = True\n",
    "args.data = '../data/short-sentences-zh-en/'\n",
    "smallc_train_data, smallc_val_data, smallc_test_data, smallc_src, smallc_trg = loader.load_data(args)"
   ]
  },
  {
   "cell_type": "code",
   "execution_count": 82,
   "metadata": {},
   "outputs": [
    {
     "name": "stdout",
     "output_type": "stream",
     "text": [
      "Most common source vocabs: [('的', 3925), ('我', 3262), ('是', 3127), ('这', 2377), ('了', 1938), ('我们', 1417), ('谢谢', 1356), ('你', 1340), ('它', 756), ('什么', 754)]\n",
      "Source vocab size: 3208\n",
      "Most common english vocabs: [('you', 3654), ('it', 3517), ('the', 3275), ('&apos;s', 3208), ('i', 2877), ('and', 2576), ('is', 2350), ('that', 2311), ('a', 2121), ('to', 1972)]\n",
      "English vocab size: 2592\n"
     ]
    }
   ],
   "source": [
    "parser = rnn_encoder_decoder.rnn_encoder_decoder_argparser()\n",
    "args = parser.parse_args([])\n",
    "args.cpu = True\n",
    "args.split_chinese_into_characters = False\n",
    "args.data = '../data/short-sentences-zh-en/'\n",
    "small_train_data, small_val_data, small_test_data, small_src, small_trg = loader.load_data(args)"
   ]
  },
  {
   "cell_type": "code",
   "execution_count": 83,
   "metadata": {},
   "outputs": [
    {
     "name": "stdout",
     "output_type": "stream",
     "text": [
      "0\n",
      "0\n",
      "0\n",
      "0\n",
      "0\n",
      "0\n",
      "0\n"
     ]
    }
   ],
   "source": [
    "save_embedding(s_src, chinese_embedder, 'small_zh_en_chinese_words_traditional.pt')\n",
    "save_embedding(s_src, simplified_chinese_embedder, 'small_zh_en_chinese_words_simplified.pt')\n",
    "save_embedding(s_trg, english_embedder, 'small_zh_en_english_words.pt')\n",
    "save_embedding(sc_src, chinese_embedder, 'small_zh_en_chinese_chars_traditional.pt')\n",
    "save_embedding(sc_src, simplified_chinese_embedder, 'small_zh_en_chinese_chars_simplified.pt')\n",
    "save_embedding(sv_src, vietnamese_embedder, 'small_vi_en_vietnamese_words.pt')\n",
    "save_embedding(sv_trg, english_embedder, 'small_vi_en_english_words.pt')"
   ]
  },
  {
   "cell_type": "code",
   "execution_count": 84,
   "metadata": {},
   "outputs": [
    {
     "name": "stdout",
     "output_type": "stream",
     "text": [
      "&apos;s\n",
      "&quot;\n",
      "&apos;t\n",
      "&apos;re\n",
      "&apos;ve\n",
      "&apos;m\n",
      "&apos;ll\n",
      "&apos;d\n",
      "&apos;\n",
      "&#91;\n",
      "&#93;\n",
      "&amp;\n",
      "&apos;clock\n",
      "&apos;all\n",
      "&apos;s-eye\n",
      "&apos;am\n",
      "&apos;n\n",
      "&apos;i\n",
      "&apos;ivoire\n",
      "&apos;mon\n",
      "&apos;neill\n",
      "&apos;an\n",
      "&apos;oeil\n",
      "&apos;a\n",
      "&apos;andrea\n",
      "&apos;est\n",
      "&apos;toole\n",
      "&apos;ts\n",
      "&apos;walking\n",
      "&apos;état\n"
     ]
    }
   ],
   "source": [
    "for each in trg.vocab.itos:\n",
    "    if '&' in each:\n",
    "        print(each)"
   ]
  },
  {
   "cell_type": "code",
   "execution_count": 85,
   "metadata": {},
   "outputs": [
    {
     "data": {
      "text/plain": [
       "<elmoformanylangs.elmo.Embedder at 0x7f465c9d49e8>"
      ]
     },
     "execution_count": 85,
     "metadata": {},
     "output_type": "execute_result"
    }
   ],
   "source": [
    "english_embedder"
   ]
  },
  {
   "cell_type": "code",
   "execution_count": 20,
   "metadata": {},
   "outputs": [],
   "source": [
    "batched_itos = []\n",
    "\n",
    "for i in range(len(src.vocab.itos)):\n",
    "    if i % 32 == 0:\n",
    "        if i != 0:\n",
    "            batched_itos.append(current_batch)\n",
    "        current_batch = []\n",
    "    current_batch.append(src.vocab.itos[i])\n",
    "batched_itos.append(current_batch)\n",
    "#for each in src.vocab.itos:"
   ]
  },
  {
   "cell_type": "code",
   "execution_count": 33,
   "metadata": {},
   "outputs": [
    {
     "data": {
      "text/plain": [
       "('<unk>', '<pad>', '<sos>', '<eos>')"
      ]
     },
     "execution_count": 33,
     "metadata": {},
     "output_type": "execute_result"
    }
   ],
   "source": [
    "batched_itos[0][0], batched_itos[0][1], batched_itos[0][2], batched_itos[0][3]"
   ]
  },
  {
   "cell_type": "code",
   "execution_count": 69,
   "metadata": {},
   "outputs": [],
   "source": [
    "batched_itos[0][0], batched_itos[0][1], batched_itos[0][2], batched_itos[0][3] = '<oov>', '<pad>', '<bos>', '<eos>'"
   ]
  },
  {
   "cell_type": "code",
   "execution_count": 21,
   "metadata": {},
   "outputs": [
    {
     "data": {
      "text/plain": [
       "(1473, 47136, 47127)"
      ]
     },
     "execution_count": 21,
     "metadata": {},
     "output_type": "execute_result"
    }
   ],
   "source": [
    "len(batched_itos), 32*len(batched_itos), len(src.vocab.itos)"
   ]
  },
  {
   "cell_type": "code",
   "execution_count": 36,
   "metadata": {},
   "outputs": [],
   "source": [
    "# WRONG! unk eos should now be oov? and bos\n",
    "torch.cuda.set_device(1)\n",
    "tokenized_itos_ver2 = chinese_embedder.sents2elmo(batched_itos, output_layer=0)"
   ]
  },
  {
   "cell_type": "code",
   "execution_count": 37,
   "metadata": {},
   "outputs": [
    {
     "data": {
      "text/plain": [
       "(1473, (32, 1024), (23, 1024))"
      ]
     },
     "execution_count": 37,
     "metadata": {},
     "output_type": "execute_result"
    }
   ],
   "source": [
    "len(tokenized_itos_ver2), tokenized_itos_ver2[0].shape, tokenized_itos_ver2[-1].shape"
   ]
  },
  {
   "cell_type": "code",
   "execution_count": 39,
   "metadata": {},
   "outputs": [],
   "source": [
    "embedding = nn.Embedding(\n",
    "            47127, \n",
    "            1024, \n",
    "            padding_idx = 1\n",
    "        )"
   ]
  },
  {
   "cell_type": "code",
   "execution_count": 41,
   "metadata": {},
   "outputs": [
    {
     "data": {
      "text/plain": [
       "numpy.ndarray"
      ]
     },
     "execution_count": 41,
     "metadata": {},
     "output_type": "execute_result"
    }
   ],
   "source": [
    "type(tokenized_itos_ver2[0])"
   ]
  },
  {
   "cell_type": "code",
   "execution_count": 43,
   "metadata": {},
   "outputs": [],
   "source": [
    "concatenated = np.concatenate(tokenized_itos_ver2)"
   ]
  },
  {
   "cell_type": "code",
   "execution_count": 64,
   "metadata": {},
   "outputs": [
    {
     "data": {
      "text/plain": [
       "(47127, 1024)"
      ]
     },
     "execution_count": 64,
     "metadata": {},
     "output_type": "execute_result"
    }
   ],
   "source": [
    "concatenated.shape"
   ]
  },
  {
   "cell_type": "code",
   "execution_count": 45,
   "metadata": {},
   "outputs": [],
   "source": [
    "embedding.load_state_dict({'weight': torch.FloatTensor(concatenated)})"
   ]
  },
  {
   "cell_type": "code",
   "execution_count": 46,
   "metadata": {},
   "outputs": [],
   "source": [
    "torch.save(embedding.state_dict(), 'chinese_words_traditional.pt')"
   ]
  },
  {
   "cell_type": "code",
   "execution_count": 53,
   "metadata": {},
   "outputs": [
    {
     "name": "stdout",
     "output_type": "stream",
     "text": [
      "0\n"
     ]
    }
   ],
   "source": [
    "for i, each in enumerate(concatenated):\n",
    "    if np.array_equal(each, concatenated[0]):\n",
    "        print(i)"
   ]
  },
  {
   "cell_type": "code",
   "execution_count": 59,
   "metadata": {},
   "outputs": [],
   "source": [
    "batched_itos = []\n",
    "\n",
    "for i in range(len(src.vocab.itos)):\n",
    "    if i % 16 == 0:\n",
    "        if i != 0:\n",
    "            batched_itos.append(current_batch)\n",
    "        current_batch = []\n",
    "    current_batch.append(src.vocab.itos[i])\n",
    "batched_itos.append(current_batch)\n",
    "#for each in src.vocab.itos:"
   ]
  },
  {
   "cell_type": "code",
   "execution_count": 70,
   "metadata": {},
   "outputs": [],
   "source": [
    "# WRONG! unk eos should now be oov? and bos\n",
    "torch.cuda.set_device(1)\n",
    "tokenized_itos_ver2 = chinese_embedder.sents2elmo(batched_itos, output_layer=0)"
   ]
  },
  {
   "cell_type": "code",
   "execution_count": 71,
   "metadata": {},
   "outputs": [
    {
     "data": {
      "text/plain": [
       "array([ 0.13876027, -0.19889045, -0.03158821, ..., -0.5328649 ,\n",
       "        0.05743121, -0.40173307], dtype=float32)"
      ]
     },
     "execution_count": 71,
     "metadata": {},
     "output_type": "execute_result"
    }
   ],
   "source": [
    "tokenized_itos_ver2[0][0]"
   ]
  },
  {
   "cell_type": "code",
   "execution_count": 72,
   "metadata": {},
   "outputs": [
    {
     "data": {
      "text/plain": [
       "array([ 0.13876027, -0.19889039, -0.03158827, ..., -0.53286487,\n",
       "        0.05743124, -0.4017331 ], dtype=float32)"
      ]
     },
     "execution_count": 72,
     "metadata": {},
     "output_type": "execute_result"
    }
   ],
   "source": [
    "concatenated[0]"
   ]
  },
  {
   "cell_type": "code",
   "execution_count": 65,
   "metadata": {},
   "outputs": [
    {
     "data": {
      "text/plain": [
       "(array([ 0.01102709, -0.35866517,  0.10903755, ..., -0.5248197 ,\n",
       "        -0.10231876, -0.4093064 ], dtype=float32),\n",
       " array([ 0.01102707, -0.35866526,  0.10903756, ..., -0.52481973,\n",
       "        -0.10231876, -0.40930653], dtype=float32))"
      ]
     },
     "execution_count": 65,
     "metadata": {},
     "output_type": "execute_result"
    }
   ],
   "source": [
    "concatenated[1], tokenized_itos_ver2[0][1]"
   ]
  },
  {
   "cell_type": "code",
   "execution_count": 73,
   "metadata": {},
   "outputs": [
    {
     "data": {
      "text/plain": [
       "(array([  0.05259107, -12.8854065 ,   1.1188823 , ...,  -5.976108  ,\n",
       "          2.2683213 ,  -4.609073  ], dtype=float32),\n",
       " array([  0.05259109, -12.8854065 ,   1.1188822 , ...,  -5.9761086 ,\n",
       "          2.268321  ,  -4.6090736 ], dtype=float32))"
      ]
     },
     "execution_count": 73,
     "metadata": {},
     "output_type": "execute_result"
    }
   ],
   "source": [
    "concatenated[2], tokenized_itos_ver2[0][2]"
   ]
  },
  {
   "cell_type": "code",
   "execution_count": 67,
   "metadata": {},
   "outputs": [
    {
     "data": {
      "text/plain": [
       "(array([-0.5495319 , -2.7702649 , -0.20382443, ..., -1.190669  ,\n",
       "        -0.04754354, -0.608676  ], dtype=float32),\n",
       " array([-0.5495319 , -2.770265  , -0.20382443, ..., -1.190669  ,\n",
       "        -0.04754355, -0.60867596], dtype=float32))"
      ]
     },
     "execution_count": 67,
     "metadata": {},
     "output_type": "execute_result"
    }
   ],
   "source": [
    "concatenated[3], tokenized_itos_ver2[0][3]"
   ]
  },
  {
   "cell_type": "code",
   "execution_count": 68,
   "metadata": {},
   "outputs": [
    {
     "data": {
      "text/plain": [
       "(array([-2.0089209e-02, -7.5419992e-01,  5.4156780e-04, ...,\n",
       "         2.0233115e-02,  5.6951560e-02,  1.6582429e-01], dtype=float32),\n",
       " array([-2.0089209e-02, -7.5419986e-01,  5.4156780e-04, ...,\n",
       "         2.0233115e-02,  5.6951560e-02,  1.6582429e-01], dtype=float32))"
      ]
     },
     "execution_count": 68,
     "metadata": {},
     "output_type": "execute_result"
    }
   ],
   "source": [
    "concatenated[4], tokenized_itos_ver2[0][4]"
   ]
  },
  {
   "cell_type": "code",
   "execution_count": 87,
   "metadata": {},
   "outputs": [
    {
     "data": {
      "text/plain": [
       "{'<oov>': 0,\n",
       " '<bos>': 1,\n",
       " '<eos>': 2,\n",
       " '<pad>': 3,\n",
       " ',': 4,\n",
       " 'the': 5,\n",
       " '.': 6,\n",
       " 'of': 7,\n",
       " 'and': 8,\n",
       " 'to': 9,\n",
       " 'a': 10,\n",
       " 'in': 11,\n",
       " '-': 12,\n",
       " ')': 13,\n",
       " '(': 14,\n",
       " ':': 15,\n",
       " 'is': 16,\n",
       " 'for': 17,\n",
       " '\"': 18,\n",
       " 'on': 19,\n",
       " 'I': 20,\n",
       " 'The': 21,\n",
       " 'that': 22,\n",
       " 'with': 23,\n",
       " 'was': 24,\n",
       " \"'s\": 25,\n",
       " 'by': 26,\n",
       " 'as': 27,\n",
       " 'at': 28,\n",
       " 'it': 29,\n",
       " 'you': 30,\n",
       " 'from': 31,\n",
       " 'are': 32,\n",
       " 'be': 33,\n",
       " 'this': 34,\n",
       " 'or': 35,\n",
       " 'have': 36,\n",
       " 'not': 37,\n",
       " 'an': 38,\n",
       " ';': 39,\n",
       " 'his': 40,\n",
       " 'he': 41,\n",
       " 'but': 42,\n",
       " '...': 43,\n",
       " '?': 44,\n",
       " 'has': 45,\n",
       " 'your': 46,\n",
       " '/': 47,\n",
       " 'will': 48,\n",
       " '|': 49,\n",
       " 'all': 50,\n",
       " 'can': 51,\n",
       " '!': 52,\n",
       " 'one': 53,\n",
       " 'In': 54,\n",
       " '1': 55,\n",
       " 'they': 56,\n",
       " \"'\": 57,\n",
       " 'which': 58,\n",
       " '&': 59,\n",
       " 'more': 60,\n",
       " 'do': 61,\n",
       " 'were': 62,\n",
       " \"n't\": 63,\n",
       " 'my': 64,\n",
       " '’s': 65,\n",
       " 'their': 66,\n",
       " 'about': 67,\n",
       " 'It': 68,\n",
       " 'also': 69,\n",
       " 'up': 70,\n",
       " 'A': 71,\n",
       " 'we': 72,\n",
       " 'had': 73,\n",
       " 'out': 74,\n",
       " '2': 75,\n",
       " 'who': 76,\n",
       " '$': 77,\n",
       " 'would': 78,\n",
       " 'time': 79,\n",
       " 'so': 80,\n",
       " 'been': 81,\n",
       " 'This': 82,\n",
       " 'like': 83,\n",
       " '–': 84,\n",
       " 'first': 85,\n",
       " 'if': 86,\n",
       " 'when': 87,\n",
       " 'her': 88,\n",
       " 'other': 89,\n",
       " '3': 90,\n",
       " 'He': 91,\n",
       " 'there': 92,\n",
       " '“': 93,\n",
       " 'just': 94,\n",
       " 'some': 95,\n",
       " 'its': 96,\n",
       " '”': 97,\n",
       " 'what': 98,\n",
       " 'new': 99,\n",
       " 'New': 100,\n",
       " 'into': 101,\n",
       " ']': 102,\n",
       " 'than': 103,\n",
       " 'only': 104,\n",
       " 'two': 105,\n",
       " 'no': 106,\n",
       " 'me': 107,\n",
       " 'them': 108,\n",
       " '[': 109,\n",
       " 'our': 110,\n",
       " '4': 111,\n",
       " '%': 112,\n",
       " 'get': 113,\n",
       " 'over': 114,\n",
       " 'after': 115,\n",
       " 'any': 116,\n",
       " 'people': 117,\n",
       " '5': 118,\n",
       " 'year': 119,\n",
       " 'years': 120,\n",
       " 'You': 121,\n",
       " 'may': 122,\n",
       " '10': 123,\n",
       " 'she': 124,\n",
       " '2012': 125,\n",
       " 'said': 126,\n",
       " 'then': 127,\n",
       " 'We': 128,\n",
       " 'use': 129,\n",
       " '2013': 130,\n",
       " 'most': 131,\n",
       " 'now': 132,\n",
       " 'how': 133,\n",
       " 'well': 134,\n",
       " 'did': 135,\n",
       " 'him': 136,\n",
       " 'could': 137,\n",
       " 'make': 138,\n",
       " 'very': 139,\n",
       " 'work': 140,\n",
       " 'where': 141,\n",
       " 'these': 142,\n",
       " 'am': 143,\n",
       " 'If': 144,\n",
       " '#': 145,\n",
       " '6': 146,\n",
       " 'PM': 147,\n",
       " 'see': 148,\n",
       " 'back': 149,\n",
       " 'good': 150,\n",
       " 'many': 151,\n",
       " 'such': 152,\n",
       " 'through': 153,\n",
       " 'made': 154,\n",
       " 'For': 155,\n",
       " 'used': 156,\n",
       " 'because': 157,\n",
       " 'know': 158,\n",
       " '=': 159,\n",
       " 'way': 160,\n",
       " 'being': 161,\n",
       " 'does': 162,\n",
       " 'much': 163,\n",
       " 'And': 164,\n",
       " 'should': 165,\n",
       " 'think': 166,\n",
       " 'All': 167,\n",
       " 'before': 168,\n",
       " '2011': 169,\n",
       " 'here': 170,\n",
       " 'University': 171,\n",
       " 'May': 172,\n",
       " 'References': 173,\n",
       " '2010': 174,\n",
       " 'day': 175,\n",
       " 'even': 176,\n",
       " '7': 177,\n",
       " 'off': 178,\n",
       " 'On': 179,\n",
       " '8': 180,\n",
       " 'n’t': 181,\n",
       " '»': 182,\n",
       " 'between': 183,\n",
       " '12': 184,\n",
       " '—': 185,\n",
       " 'same': 186,\n",
       " 'right': 187,\n",
       " 'those': 188,\n",
       " '2015': 189,\n",
       " '2014': 190,\n",
       " \"'m\": 191,\n",
       " 'three': 192,\n",
       " 'during': 193,\n",
       " 'last': 194,\n",
       " 'American': 195,\n",
       " 'need': 196,\n",
       " '>': 197,\n",
       " 'great': 198,\n",
       " 'while': 199,\n",
       " 'go': 200,\n",
       " 'part': 201,\n",
       " 'still': 202,\n",
       " 'us': 203,\n",
       " 'To': 204,\n",
       " 'really': 205,\n",
       " 'But': 206,\n",
       " 'under': 207,\n",
       " 'They': 208,\n",
       " '20': 209,\n",
       " 'i': 210,\n",
       " 'United': 211,\n",
       " 'both': 212,\n",
       " 'There': 213,\n",
       " '2009': 214,\n",
       " 'want': 215,\n",
       " 'take': 216,\n",
       " '0': 217,\n",
       " 'each': 218,\n",
       " 'best': 219,\n",
       " 'With': 220,\n",
       " 'game': 221,\n",
       " 'down': 222,\n",
       " '15': 223,\n",
       " 'March': 224,\n",
       " 'team': 225,\n",
       " 'As': 226,\n",
       " 'life': 227,\n",
       " 'No': 228,\n",
       " 'What': 229,\n",
       " 'too': 230,\n",
       " 'AM': 231,\n",
       " 'information': 232,\n",
       " 'home': 233,\n",
       " 'long': 234,\n",
       " 'pm': 235,\n",
       " '11': 236,\n",
       " 'around': 237,\n",
       " 'June': 238,\n",
       " 'going': 239,\n",
       " 'State': 240,\n",
       " 'July': 241,\n",
       " 'high': 242,\n",
       " 'John': 243,\n",
       " '2008': 244,\n",
       " 'de': 245,\n",
       " 'including': 246,\n",
       " '30': 247,\n",
       " 'April': 248,\n",
       " '--': 249,\n",
       " 'love': 250,\n",
       " 'World': 251,\n",
       " 'world': 252,\n",
       " 'against': 253,\n",
       " 'January': 254,\n",
       " 'second': 255,\n",
       " 'number': 256,\n",
       " 'since': 257,\n",
       " '14': 258,\n",
       " 'October': 259,\n",
       " 'own': 260,\n",
       " '9': 261,\n",
       " 'name': 262,\n",
       " 'found': 263,\n",
       " 'help': 264,\n",
       " 'My': 265,\n",
       " 'using': 266,\n",
       " 'York': 267,\n",
       " 'find': 268,\n",
       " 'end': 269,\n",
       " 'set': 270,\n",
       " 'system': 271,\n",
       " 'National': 272,\n",
       " 'September': 273,\n",
       " 'place': 274,\n",
       " 'School': 275,\n",
       " 'season': 276,\n",
       " 'links': 277,\n",
       " 'City': 278,\n",
       " '18': 279,\n",
       " 'school': 280,\n",
       " 'She': 281,\n",
       " 'By': 282,\n",
       " 'That': 283,\n",
       " '13': 284,\n",
       " 'family': 285,\n",
       " \"'re\": 286,\n",
       " 'free': 287,\n",
       " 'based': 288,\n",
       " '16': 289,\n",
       " 'old': 290,\n",
       " 'another': 291,\n",
       " 'state': 292,\n",
       " '+': 293,\n",
       " 'until': 294,\n",
       " 'More': 295,\n",
       " 'little': 296,\n",
       " 'different': 297,\n",
       " 'few': 298,\n",
       " '2007': 299,\n",
       " 'without': 300,\n",
       " '25': 301,\n",
       " 'States': 302,\n",
       " \"'ve\": 303,\n",
       " 'When': 304,\n",
       " 'August': 305,\n",
       " 'every': 306,\n",
       " 'One': 307,\n",
       " 'better': 308,\n",
       " 'News': 309,\n",
       " '*': 310,\n",
       " 'say': 311,\n",
       " 'next': 312,\n",
       " 'never': 313,\n",
       " '24': 314,\n",
       " 'got': 315,\n",
       " 'later': 316,\n",
       " 'look': 317,\n",
       " 'November': 318,\n",
       " 'How': 319,\n",
       " 'County': 320,\n",
       " 'show': 321,\n",
       " 'known': 322,\n",
       " 'Home': 323,\n",
       " 'area': 324,\n",
       " 'available': 325,\n",
       " 'again': 326,\n",
       " 'days': 327,\n",
       " 'After': 328,\n",
       " 'December': 329,\n",
       " 'External': 330,\n",
       " 'called': 331,\n",
       " 'something': 332,\n",
       " 'things': 333,\n",
       " 'February': 334,\n",
       " 'top': 335,\n",
       " 'must': 336,\n",
       " 'So': 337,\n",
       " 'line': 338,\n",
       " 'See': 339,\n",
       " 'U.S.': 340,\n",
       " 'South': 341,\n",
       " 'Reply': 342,\n",
       " 'site': 343,\n",
       " 'Your': 344,\n",
       " '2006': 345,\n",
       " 'data': 346,\n",
       " '17': 347,\n",
       " 'left': 348,\n",
       " 'group': 349,\n",
       " '2016': 350,\n",
       " 'series': 351,\n",
       " 'following': 352,\n",
       " 'four': 353,\n",
       " 'North': 354,\n",
       " '’': 355,\n",
       " 'always': 356,\n",
       " 'service': 357,\n",
       " 'full': 358,\n",
       " 'small': 359,\n",
       " 'play': 360,\n",
       " 'support': 361,\n",
       " '100': 362,\n",
       " 'come': 363,\n",
       " '21': 364,\n",
       " 'Center': 365,\n",
       " 'point': 366,\n",
       " 'At': 367,\n",
       " 'public': 368,\n",
       " 'week': 369,\n",
       " 'film': 370,\n",
       " 'US': 371,\n",
       " '19': 372,\n",
       " 'book': 373,\n",
       " 'page': 374,\n",
       " 'Posted': 375,\n",
       " 'ago': 376,\n",
       " 'company': 377,\n",
       " 'times': 378,\n",
       " 'From': 379,\n",
       " 'born': 380,\n",
       " '22': 381,\n",
       " 'business': 382,\n",
       " \"'ll\": 383,\n",
       " 'several': 384,\n",
       " 'within': 385,\n",
       " 'case': 386,\n",
       " 'might': 387,\n",
       " 'post': 388,\n",
       " 'man': 389,\n",
       " 'College': 390,\n",
       " 'water': 391,\n",
       " 'order': 392,\n",
       " 'lot': 393,\n",
       " 'put': 394,\n",
       " 'music': 395,\n",
       " 'sure': 396,\n",
       " 'having': 397,\n",
       " 'View': 398,\n",
       " 'Do': 399,\n",
       " 'children': 400,\n",
       " 'early': 401,\n",
       " 'local': 402,\n",
       " '23': 403,\n",
       " 'though': 404,\n",
       " 'city': 405,\n",
       " 'away': 406,\n",
       " 'give': 407,\n",
       " 'Black': 408,\n",
       " 'today': 409,\n",
       " 'large': 410,\n",
       " 'big': 411,\n",
       " 'making': 412,\n",
       " 'side': 413,\n",
       " '2005': 414,\n",
       " 'power': 415,\n",
       " '26': 416,\n",
       " '28': 417,\n",
       " 'government': 418,\n",
       " 'include': 419,\n",
       " 'became': 420,\n",
       " 'per': 421,\n",
       " 'House': 422,\n",
       " 'why': 423,\n",
       " 'Free': 424,\n",
       " 'His': 425,\n",
       " 'change': 426,\n",
       " 'read': 427,\n",
       " 'program': 428,\n",
       " 'says': 429,\n",
       " 'ca': 430,\n",
       " 'students': 431,\n",
       " 'run': 432,\n",
       " 'High': 433,\n",
       " 'ever': 434,\n",
       " 'Of': 435,\n",
       " 'Best': 436,\n",
       " 'thing': 437,\n",
       " 'took': 438,\n",
       " 'International': 439,\n",
       " 'start': 440,\n",
       " 'West': 441,\n",
       " 'Is': 442,\n",
       " '27': 443,\n",
       " 'First': 444,\n",
       " 'least': 445,\n",
       " 'list': 446,\n",
       " 'less': 447,\n",
       " 'English': 448,\n",
       " 'single': 449,\n",
       " 'video': 450,\n",
       " 'History': 451,\n",
       " 'TV': 452,\n",
       " 'working': 453,\n",
       " 'keep': 454,\n",
       " 'along': 455,\n",
       " 'Day': 456,\n",
       " 'looking': 457,\n",
       " 'open': 458,\n",
       " 'able': 459,\n",
       " 'level': 460,\n",
       " '29': 461,\n",
       " 'America': 462,\n",
       " 'games': 463,\n",
       " 'However': 464,\n",
       " 'came': 465,\n",
       " 'course': 466,\n",
       " 'B': 467,\n",
       " 'history': 468,\n",
       " 'members': 469,\n",
       " 'These': 470,\n",
       " 'Post': 471,\n",
       " 'Now': 472,\n",
       " 'form': 473,\n",
       " 'often': 474,\n",
       " 'member': 475,\n",
       " 'months': 476,\n",
       " 'War': 477,\n",
       " '50': 478,\n",
       " 'women': 479,\n",
       " 'age': 480,\n",
       " 'played': 481,\n",
       " 'control': 482,\n",
       " 'An': 483,\n",
       " 'London': 484,\n",
       " 'five': 485,\n",
       " 'real': 486,\n",
       " 'Not': 487,\n",
       " 'far': 488,\n",
       " 'story': 489,\n",
       " 'started': 490,\n",
       " 'try': 491,\n",
       " '2004': 492,\n",
       " 'night': 493,\n",
       " 'makes': 494,\n",
       " 'White': 495,\n",
       " 'live': 496,\n",
       " 'enough': 497,\n",
       " 'released': 498,\n",
       " 'San': 499,\n",
       " 'website': 500,\n",
       " 'online': 501,\n",
       " 'law': 502,\n",
       " 'money': 503,\n",
       " 'country': 504,\n",
       " 'Park': 505,\n",
       " 'already': 506,\n",
       " 'went': 507,\n",
       " 'version': 508,\n",
       " 'done': 509,\n",
       " 'important': 510,\n",
       " 'million': 511,\n",
       " 'General': 512,\n",
       " 'album': 513,\n",
       " 'near': 514,\n",
       " 'David': 515,\n",
       " 'held': 516,\n",
       " 'become': 517,\n",
       " 'head': 518,\n",
       " 'house': 519,\n",
       " 'person': 520,\n",
       " 'feel': 521,\n",
       " '«': 522,\n",
       " 'experience': 523,\n",
       " 'List': 524,\n",
       " 'thought': 525,\n",
       " 'provide': 526,\n",
       " 'Our': 527,\n",
       " 'community': 528,\n",
       " 'x': 529,\n",
       " 'James': 530,\n",
       " 'together': 531,\n",
       " 'hard': 532,\n",
       " 'wrote': 533,\n",
       " 'problem': 534,\n",
       " 'view': 535,\n",
       " 'others': 536,\n",
       " 'given': 537,\n",
       " 'example': 538,\n",
       " 'services': 539,\n",
       " 'actually': 540,\n",
       " 'due': 541,\n",
       " 'process': 542,\n",
       " 'third': 543,\n",
       " 'getting': 544,\n",
       " 'won': 545,\n",
       " 'care': 546,\n",
       " 'body': 547,\n",
       " 'call': 548,\n",
       " 'men': 549,\n",
       " 'League': 550,\n",
       " 'seen': 551,\n",
       " 'current': 552,\n",
       " 'British': 553,\n",
       " 'yet': 554,\n",
       " 'design': 555,\n",
       " 'California': 556,\n",
       " '..': 557,\n",
       " 'once': 558,\n",
       " 'II': 559,\n",
       " 'former': 560,\n",
       " 'Re': 561,\n",
       " 'present': 562,\n",
       " 'career': 563,\n",
       " 'Music': 564,\n",
       " 'class': 565,\n",
       " 'development': 566,\n",
       " 'received': 567,\n",
       " 'major': 568,\n",
       " 'original': 569,\n",
       " 'bit': 570,\n",
       " 'God': 571,\n",
       " 'short': 572,\n",
       " 'half': 573,\n",
       " 'possible': 574,\n",
       " 'results': 575,\n",
       " 'points': 576,\n",
       " '31': 577,\n",
       " 'health': 578,\n",
       " 'works': 579,\n",
       " 'above': 580,\n",
       " 'win': 581,\n",
       " 'type': 582,\n",
       " 'doing': 583,\n",
       " 'either': 584,\n",
       " 'hours': 585,\n",
       " 'light': 586,\n",
       " \"'d\": 587,\n",
       " 'product': 588,\n",
       " '{': 589,\n",
       " 'let': 590,\n",
       " '2003': 591,\n",
       " 'past': 592,\n",
       " 'fact': 593,\n",
       " 'low': 594,\n",
       " 'main': 595,\n",
       " 'building': 596,\n",
       " 'car': 597,\n",
       " 'Top': 598,\n",
       " 'Women': 599,\n",
       " 'Page': 600,\n",
       " '2000': 601,\n",
       " 'food': 602,\n",
       " 'means': 603,\n",
       " 'Time': 604,\n",
       " 'President': 605,\n",
       " 'job': 606,\n",
       " 'review': 607,\n",
       " 'anything': 608,\n",
       " 'research': 609,\n",
       " 'East': 610,\n",
       " 'began': 611,\n",
       " '....': 612,\n",
       " 'Other': 613,\n",
       " 'event': 614,\n",
       " 'Washington': 615,\n",
       " 'Last': 616,\n",
       " 'quality': 617,\n",
       " 'room': 618,\n",
       " 'Year': 619,\n",
       " 'someone': 620,\n",
       " 'Street': 621,\n",
       " 'death': 622,\n",
       " 'Department': 623,\n",
       " 'hand': 624,\n",
       " 'Great': 625,\n",
       " 'record': 626,\n",
       " 'project': 627,\n",
       " 'issue': 628,\n",
       " 'player': 629,\n",
       " 'field': 630,\n",
       " 'size': 631,\n",
       " 'Ship': 632,\n",
       " 'final': 633,\n",
       " 'St.': 634,\n",
       " 'white': 635,\n",
       " 'pretty': 636,\n",
       " 'probably': 637,\n",
       " 'Price': 638,\n",
       " 'Some': 639,\n",
       " 'published': 640,\n",
       " 'Please': 641,\n",
       " 'general': 642,\n",
       " 'question': 643,\n",
       " 'value': 644,\n",
       " 'Red': 645,\n",
       " 'built': 646,\n",
       " 'named': 647,\n",
       " 'easy': 648,\n",
       " 'added': 649,\n",
       " 'access': 650,\n",
       " 'Church': 651,\n",
       " 'subject': 652,\n",
       " 'special': 653,\n",
       " 'Paul': 654,\n",
       " 'William': 655,\n",
       " 'Group': 656,\n",
       " 'song': 657,\n",
       " 'black': 658,\n",
       " 'close': 659,\n",
       " 'news': 660,\n",
       " 'products': 661,\n",
       " 'price': 662,\n",
       " 'Health': 663,\n",
       " 'C': 664,\n",
       " '40': 665,\n",
       " 'Press': 666,\n",
       " '2002': 667,\n",
       " 'Quote': 668,\n",
       " 'French': 669,\n",
       " 'son': 670,\n",
       " 'believe': 671,\n",
       " 'among': 672,\n",
       " 'style': 673,\n",
       " 'town': 674,\n",
       " 'please': 675,\n",
       " 'Art': 676,\n",
       " 'J.': 677,\n",
       " 'included': 678,\n",
       " 'century': 679,\n",
       " 'link': 680,\n",
       " 'below': 681,\n",
       " 'study': 682,\n",
       " 'kind': 683,\n",
       " 'total': 684,\n",
       " 'Life': 685,\n",
       " 'Michael': 686,\n",
       " 'title': 687,\n",
       " 'located': 688,\n",
       " 'performance': 689,\n",
       " 'late': 690,\n",
       " 'national': 691,\n",
       " 'District': 692,\n",
       " 'bad': 693,\n",
       " 'comes': 694,\n",
       " 's': 695,\n",
       " 'needs': 696,\n",
       " 'band': 697,\n",
       " 'taken': 698,\n",
       " 'Service': 699,\n",
       " 'Big': 700,\n",
       " 'Here': 701,\n",
       " 'party': 702,\n",
       " 'position': 703,\n",
       " 'friends': 704,\n",
       " 'About': 705,\n",
       " 'George': 706,\n",
       " 'Love': 707,\n",
       " '@': 708,\n",
       " 'died': 709,\n",
       " 'Add': 710,\n",
       " 'created': 711,\n",
       " 'future': 712,\n",
       " 'shows': 713,\n",
       " 'THE': 714,\n",
       " 'features': 715,\n",
       " 'report': 716,\n",
       " '2001': 717,\n",
       " 'Air': 718,\n",
       " 'Club': 719,\n",
       " 'Party': 720,\n",
       " 'Just': 721,\n",
       " 'trying': 722,\n",
       " 'young': 723,\n",
       " 'minutes': 724,\n",
       " 'date': 725,\n",
       " 'across': 726,\n",
       " 'share': 727,\n",
       " 'p.': 728,\n",
       " 'taking': 729,\n",
       " 'idea': 730,\n",
       " 'rather': 731,\n",
       " 'provided': 732,\n",
       " 'file': 733,\n",
       " 'create': 734,\n",
       " 'six': 735,\n",
       " 'front': 736,\n",
       " 'almost': 737,\n",
       " 'result': 738,\n",
       " 'further': 739,\n",
       " 'King': 740,\n",
       " 'office': 741,\n",
       " 'Friday': 742,\n",
       " 'add': 743,\n",
       " 'Company': 744,\n",
       " 'article': 745,\n",
       " 'term': 746,\n",
       " 'whole': 747,\n",
       " 'however': 748,\n",
       " 'period': 749,\n",
       " 'various': 750,\n",
       " 'Jan': 751,\n",
       " 'social': 752,\n",
       " 'River': 753,\n",
       " 'Robert': 754,\n",
       " 'Texas': 755,\n",
       " 'lead': 756,\n",
       " 'month': 757,\n",
       " 'Business': 758,\n",
       " 'market': 759,\n",
       " 'check': 760,\n",
       " 'Search': 761,\n",
       " 'art': 762,\n",
       " 'via': 763,\n",
       " 'Two': 764,\n",
       " 'related': 765,\n",
       " 'Most': 766,\n",
       " 'similar': 767,\n",
       " 'UK': 768,\n",
       " 'told': 769,\n",
       " 'blog': 770,\n",
       " 'written': 771,\n",
       " 'includes': 772,\n",
       " 'issues': 773,\n",
       " 'posted': 774,\n",
       " 'looks': 775,\n",
       " 'plan': 776,\n",
       " 'playing': 777,\n",
       " 'USA': 778,\n",
       " 'While': 779,\n",
       " 'code': 780,\n",
       " 'lost': 781,\n",
       " 'whether': 782,\n",
       " 'Show': 783,\n",
       " 'seems': 784,\n",
       " 'role': 785,\n",
       " 'Video': 786,\n",
       " 'served': 787,\n",
       " 'human': 788,\n",
       " 'Men': 789,\n",
       " 'Public': 790,\n",
       " 'England': 791,\n",
       " 'asked': 792,\n",
       " 'search': 793,\n",
       " 'living': 794,\n",
       " 'Team': 795,\n",
       " 'Association': 796,\n",
       " 'D': 797,\n",
       " 'air': 798,\n",
       " 'Review': 799,\n",
       " 'm': 800,\n",
       " 'Times': 801,\n",
       " 'events': 802,\n",
       " 'Thomas': 803,\n",
       " 'Cup': 804,\n",
       " 'Find': 805,\n",
       " 'space': 806,\n",
       " 'running': 807,\n",
       " 'everything': 808,\n",
       " 'Canada': 809,\n",
       " 'upon': 810,\n",
       " 'worked': 811,\n",
       " 'hope': 812,\n",
       " 'return': 813,\n",
       " 'players': 814,\n",
       " 'child': 815,\n",
       " 'range': 816,\n",
       " 'fun': 817,\n",
       " 'content': 818,\n",
       " 'Office': 819,\n",
       " 'Research': 820,\n",
       " 'Series': 821,\n",
       " 'move': 822,\n",
       " 'nothing': 823,\n",
       " 'mean': 824,\n",
       " 'hit': 825,\n",
       " 'face': 826,\n",
       " '‘': 827,\n",
       " 'test': 828,\n",
       " 'reading': 829,\n",
       " 'areas': 830,\n",
       " 'especially': 831,\n",
       " 'Google': 832,\n",
       " 'war': 833,\n",
       " 'German': 834,\n",
       " 'Read': 835,\n",
       " 'European': 836,\n",
       " 'required': 837,\n",
       " 'release': 838,\n",
       " '•': 839,\n",
       " 'nice': 840,\n",
       " 'education': 841,\n",
       " 'tell': 842,\n",
       " 'China': 843,\n",
       " 'common': 844,\n",
       " 'private': 845,\n",
       " '<': 846,\n",
       " 'Education': 847,\n",
       " 'Part': 848,\n",
       " 'pay': 849,\n",
       " 'weeks': 850,\n",
       " 'X': 851,\n",
       " 'Also': 852,\n",
       " 'media': 853,\n",
       " 'Dr.': 854,\n",
       " 'coming': 855,\n",
       " 'station': 856,\n",
       " '’re': 857,\n",
       " 'anyone': 858,\n",
       " 'wanted': 859,\n",
       " 'addition': 860,\n",
       " 'currently': 861,\n",
       " 'email': 862,\n",
       " 'action': 863,\n",
       " 'Saturday': 864,\n",
       " 'Man': 865,\n",
       " 'soon': 866,\n",
       " 'round': 867,\n",
       " 'true': 868,\n",
       " 'During': 869,\n",
       " 'cost': 870,\n",
       " 'Green': 871,\n",
       " 'model': 872,\n",
       " 'quite': 873,\n",
       " 'political': 874,\n",
       " 'books': 875,\n",
       " 'wife': 876,\n",
       " 'Sunday': 877,\n",
       " 'Blue': 878,\n",
       " 'saw': 879,\n",
       " 'Information': 880,\n",
       " 'Up': 881,\n",
       " 'Posts': 882,\n",
       " 'Get': 883,\n",
       " 'source': 884,\n",
       " 'Star': 885,\n",
       " 'moved': 886,\n",
       " 'Science': 887,\n",
       " 'else': 888,\n",
       " '’m': 889,\n",
       " 'buy': 890,\n",
       " 'production': 891,\n",
       " 'training': 892,\n",
       " 'takes': 893,\n",
       " 'gets': 894,\n",
       " 'offer': 895,\n",
       " 'reason': 896,\n",
       " 'comments': 897,\n",
       " 'words': 898,\n",
       " 'St': 899,\n",
       " 'Report': 900,\n",
       " 'Award': 901,\n",
       " 'complete': 902,\n",
       " 'image': 903,\n",
       " 'message': 904,\n",
       " 'user': 905,\n",
       " 'Road': 906,\n",
       " 'population': 907,\n",
       " 'father': 908,\n",
       " 'usually': 909,\n",
       " 'percent': 910,\n",
       " 'changes': 911,\n",
       " 'friend': 912,\n",
       " 'behind': 913,\n",
       " 'India': 914,\n",
       " 'everyone': 915,\n",
       " 'Book': 916,\n",
       " 'section': 917,\n",
       " '1999': 918,\n",
       " 'problems': 919,\n",
       " 'Why': 920,\n",
       " 'Board': 921,\n",
       " 'questions': 922,\n",
       " 'language': 923,\n",
       " 'Mr.': 924,\n",
       " 'deal': 925,\n",
       " 'personal': 926,\n",
       " 'Court': 927,\n",
       " 'Act': 928,\n",
       " 'provides': 929,\n",
       " 'outside': 930,\n",
       " 'led': 931,\n",
       " 'Council': 932,\n",
       " 'instead': 933,\n",
       " 'character': 934,\n",
       " 'offers': 935,\n",
       " 'self': 936,\n",
       " 'Hall': 937,\n",
       " 'energy': 938,\n",
       " 'Australia': 939,\n",
       " 'word': 940,\n",
       " 'needed': 941,\n",
       " 'France': 942,\n",
       " 'industry': 943,\n",
       " 'card': 944,\n",
       " 'match': 945,\n",
       " 'stop': 946,\n",
       " 'Online': 947,\n",
       " 'mind': 948,\n",
       " 'technology': 949,\n",
       " 'mm': 950,\n",
       " 'Smith': 951,\n",
       " 'wo': 952,\n",
       " 'Services': 953,\n",
       " 'turn': 954,\n",
       " 'Game': 955,\n",
       " 'contact': 956,\n",
       " 'Central': 957,\n",
       " 'board': 958,\n",
       " '60': 959,\n",
       " 'Monday': 960,\n",
       " 'M': 961,\n",
       " 'Today': 962,\n",
       " 'parts': 963,\n",
       " 'property': 964,\n",
       " 'average': 965,\n",
       " 'key': 966,\n",
       " 'visit': 967,\n",
       " '1st': 968,\n",
       " '1998': 969,\n",
       " 'details': 970,\n",
       " 'Chicago': 971,\n",
       " 'designed': 972,\n",
       " 'Institute': 973,\n",
       " 'Society': 974,\n",
       " 'according': 975,\n",
       " 'reviews': 976,\n",
       " 'systems': 977,\n",
       " 'club': 978,\n",
       " 'interest': 979,\n",
       " 'software': 980,\n",
       " 'Community': 981,\n",
       " 'M.': 982,\n",
       " 'himself': 983,\n",
       " 'store': 984,\n",
       " 'color': 985,\n",
       " 'rights': 986,\n",
       " 'Date': 987,\n",
       " 'Law': 988,\n",
       " 'Lake': 989,\n",
       " 'application': 990,\n",
       " 'Library': 991,\n",
       " 'collection': 992,\n",
       " 'clear': 993,\n",
       " 'popular': 994,\n",
       " 'military': 995,\n",
       " 'Thanks': 996,\n",
       " 'couple': 997,\n",
       " 'simple': 998,\n",
       " '’ve': 999,\n",
       " ...}"
      ]
     },
     "execution_count": 87,
     "metadata": {},
     "output_type": "execute_result"
    }
   ],
   "source": [
    "english_embedder.model.token_embedder.word_emb_layer.word2id"
   ]
  },
  {
   "cell_type": "code",
   "execution_count": 93,
   "metadata": {},
   "outputs": [
    {
     "name": "stdout",
     "output_type": "stream",
     "text": [
      "&\n",
      "&gt\n",
      "&quot\n",
      "&#\n",
      "&lt\n",
      "&nbsp\n",
      "&gt;&gt\n",
      "&T\n",
      "&amp\n",
      "&B\n",
      "&#39\n",
      "&gt;&gt;&gt\n",
      "&apos\n",
      "&&\n",
      "&amp;&amp\n",
      "&P\n",
      "&S\n",
      "&N\n",
      "&gt;&gt;&gt;&gt\n",
      "&gt;&gt;&gt;&gt;&gt\n",
      "&R\n",
      "&O\n",
      "&W\n",
      "&G\n",
      "&c.\n",
      "&c\n",
      "&&(\n",
      "&L\n",
      "&C\n",
      "&M\n",
      "&D\n",
      "&H\n",
      "&&gu_ad_ph_geoc==ph_geoc)\n",
      "&&gu_ad_ph_geoc_real\n",
      "&mdash\n",
      "&nbsp;&nbsp\n",
      "&#x000A\n",
      "&ndash\n",
      "&A\n",
      "&F\n",
      "&lt;-&gt\n",
      "&&_gaq.push\n",
      "&raquo\n",
      "&#40\n",
      "&#39;s\n",
      "&gt;&gt;&gt;&gt;&gt;&gt\n",
      "&#039\n",
      "&#39;method&#39\n",
      "&V\n",
      "&lt;address@hidden&gt\n",
      "&#34\n",
      "&bull\n",
      "&#39;\n",
      "&nbsp;&nbsp;&nbsp\n",
      "&Q\n",
      "&nbsp;&nbsp;&nbsp;&nbsp;&nbsp;&nbsp;&nbsp;&nbsp;\n"
     ]
    }
   ],
   "source": [
    "for key in english_embedder.model.token_embedder.word_emb_layer.word2id:\n",
    "    if key.startswith('&'):\n",
    "        print(key)"
   ]
  },
  {
   "cell_type": "code",
   "execution_count": 94,
   "metadata": {},
   "outputs": [
    {
     "name": "stdout",
     "output_type": "stream",
     "text": [
      "quote\n",
      "quotes\n",
      "quot\n",
      "&quot\n",
      "quoted\n",
      "quotation\n",
      "quoting\n",
      ".&quot\n",
      "quotations\n",
      "quota\n",
      "quotas\n",
      ",&quot\n",
      "quotient\n",
      "blockquote\n",
      "(&quot\n",
      "?&quot\n",
      ";&quot\n",
      "replyquote\n",
      "Pequot\n",
      "!&quot\n",
      "yes&quot\n",
      "href=&quot\n",
      "Clicquot\n",
      "quote:Anonymous\n",
      "unquoted\n",
      "Wikiquote\n",
      "_ENV[&quot\n",
      "Clayoquot\n",
      "\\&quot\n",
      "class=&quot;full-spec-link&quot\n",
      "device.quote\n",
      "aliquot\n",
      "...&quot\n",
      "quotidian\n",
      "misquoted\n",
      "TEST_PHP_SRCDIR&quot\n",
      "\\n&quot\n",
      "[&quot\n",
      "C&quot\n",
      "quotients\n",
      "IS&quot\n",
      "A2=&quot\n",
      "mode&quot\n"
     ]
    }
   ],
   "source": [
    "for key in english_embedder.model.token_embedder.word_emb_layer.word2id:\n",
    "    if 'quot' in key:\n",
    "        print(key)"
   ]
  },
  {
   "cell_type": "code",
   "execution_count": null,
   "metadata": {},
   "outputs": [],
   "source": []
  }
 ],
 "metadata": {
  "kernelspec": {
   "display_name": "Python 3",
   "language": "python",
   "name": "python3"
  },
  "language_info": {
   "codemirror_mode": {
    "name": "ipython",
    "version": 3
   },
   "file_extension": ".py",
   "mimetype": "text/x-python",
   "name": "python",
   "nbconvert_exporter": "python",
   "pygments_lexer": "ipython3",
   "version": "3.6.6"
  }
 },
 "nbformat": 4,
 "nbformat_minor": 2
}
