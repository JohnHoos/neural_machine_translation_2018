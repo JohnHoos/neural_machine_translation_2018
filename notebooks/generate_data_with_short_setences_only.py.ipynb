{
 "cells": [
  {
   "cell_type": "code",
   "execution_count": null,
   "metadata": {},
   "outputs": [],
   "source": [
    "from torchtext import data\n",
    "from torchtext import datasets\n",
    "\n",
    "from functools import partial\n",
    "import sys\n",
    "sys.path.append('../src')\n",
    "import config\n",
    "\n",
    "import io\n",
    "import os\n",
    "from loader import *\n",
    "import rnn_encoder_decoder"
   ]
  },
  {
   "cell_type": "code",
   "execution_count": null,
   "metadata": {
    "collapsed": true
   },
   "outputs": [],
   "source": [
    "parser = rnn_encoder_decoder.rnn_encoder_decoder_argparser()\n",
    "args = parser.parse_args([]) # use default settings\n",
    "args.split_chinese_into_characters = True"
   ]
  },
  {
   "cell_type": "code",
   "execution_count": null,
   "metadata": {
    "collapsed": true
   },
   "outputs": [],
   "source": [
    "train, val, test, ZH, EN = load_data(args)"
   ]
  },
  {
   "cell_type": "code",
   "execution_count": null,
   "metadata": {},
   "outputs": [],
   "source": [
    "train_iter, val_iter = data.BucketIterator.splits(\n",
    "        (train, val), batch_size=4, device=-1\n",
    ")"
   ]
  },
  {
   "cell_type": "code",
   "execution_count": 39,
   "metadata": {},
   "outputs": [],
   "source": [
    "indices_short_chinese = []\n",
    "for each in train_iter.dataset:\n",
    "    if len(each.src) < 10:\n",
    "        indices_short_chinese.append(each.idx)\n",
    "with open(\"../data/iwslt-zh-en/train.tok.en\") as f:\n",
    "    eng = f.readlines()\n",
    "with open(\"../data/iwslt-zh-en/train.tok.zh\") as f:\n",
    "    zh = f.readlines()\n",
    "short_chinese_lines, short_eng_lines = [], []\n",
    "for idx in indices_short_chinese:\n",
    "    short_chinese_lines.append(zh[idx])\n",
    "    short_eng_lines.append(eng[idx])"
   ]
  },
  {
   "cell_type": "code",
   "execution_count": 37,
   "metadata": {},
   "outputs": [],
   "source": [
    "indices_short_chinese_dev = []\n",
    "for each in val_iter.dataset:\n",
    "    if len(each.src) < 10:\n",
    "        indices_short_chinese_dev.append(each.idx)\n",
    "with open(\"../data/iwslt-zh-en/dev.tok.en\") as f:\n",
    "    eng_dev = f.readlines()\n",
    "with open(\"../data/iwslt-zh-en/dev.tok.zh\") as f:\n",
    "    zh_dev = f.readlines()\n",
    "short_chinese_lines_dev, short_eng_lines_dev = [], []\n",
    "for idx in indices_short_chinese_dev:\n",
    "    short_chinese_lines_dev.append(zh_dev[idx])\n",
    "    short_eng_lines_dev.append(eng_dev[idx])"
   ]
  },
  {
   "cell_type": "code",
   "execution_count": 41,
   "metadata": {},
   "outputs": [],
   "source": [
    "import pathlib\n",
    "\n",
    "pathlib.Path(\"../data/short-sentences-zh-en/\").mkdir(parents=True, exist_ok=True)\n",
    "with open(\"../data/short-sentences-zh-en/dev.tok.en\", \"w\") as f:\n",
    "    for line in short_eng_lines_dev:\n",
    "        f.write(line)\n",
    "with open(\"../data/short-sentences-zh-en/dev.tok.zh\", \"w\") as f:\n",
    "    for line in short_chinese_lines_dev:\n",
    "        f.write(line)\n",
    "with open(\"../data/short-sentences-zh-en/train.tok.en\", \"w\") as f:\n",
    "    for line in short_eng_lines:\n",
    "        f.write(line)\n",
    "with open(\"../data/short-sentences-zh-en/train.tok.zh\", \"w\") as f:\n",
    "    for line in short_chinese_lines:\n",
    "        f.write(line)"
   ]
  },
  {
   "cell_type": "code",
   "execution_count": 43,
   "metadata": {},
   "outputs": [
    {
     "name": "stdout",
     "output_type": "stream",
     "text": [
      "Most common source vocabs: [('là', 51451), ('và', 47993), ('một', 40378), ('tôi', 38381), ('những', 37809), ('của', 36330), ('có', 26166), ('bạn', 26111), ('đó', 25229), ('không', 25169)]\n",
      "Source vocab size: 20099\n",
      "Most common english vocabs: [('the', 109723), ('and', 79673), ('to', 65979), ('of', 60510), ('a', 55374), ('that', 49320), ('i', 43629), ('in', 41318), ('it', 39058), ('you', 37438)]\n",
      "English vocab size: 22429\n"
     ]
    }
   ],
   "source": [
    "parser = rnn_encoder_decoder.rnn_encoder_decoder_argparser()\n",
    "args = parser.parse_args([]) # use default settings\n",
    "args.source_lang = \"vi\"\n",
    "args.data = '../data/iwslt-vi-en/'\n",
    "train, val, test, VI, EN = load_data(args)\n",
    "train_iter, val_iter = data.BucketIterator.splits(\n",
    "        (train, val), batch_size=4, device=-1\n",
    ")"
   ]
  },
  {
   "cell_type": "code",
   "execution_count": 48,
   "metadata": {},
   "outputs": [],
   "source": [
    "indices_short_viet = []\n",
    "for each in train_iter.dataset:\n",
    "    if len(each.src) < 10:\n",
    "        indices_short_viet.append(each.idx)\n",
    "with open(\"../data/iwslt-vi-en/train.tok.en\") as f:\n",
    "    eng = f.readlines()\n",
    "with open(\"../data/iwslt-vi-en/train.tok.vi\") as f:\n",
    "    vi = f.readlines()\n",
    "short_viet_lines, short_eng_lines = [], []\n",
    "for idx in indices_short_viet:\n",
    "    short_viet_lines.append(vi[idx])\n",
    "    short_eng_lines.append(eng[idx])"
   ]
  },
  {
   "cell_type": "code",
   "execution_count": 52,
   "metadata": {},
   "outputs": [],
   "source": [
    "indices_short_viet_dev = []\n",
    "for each in val_iter.dataset:\n",
    "    if len(each.src) < 10:\n",
    "        indices_short_viet_dev.append(each.idx)\n",
    "with open(\"../data/iwslt-vi-en/dev.tok.en\") as f:\n",
    "    eng_dev = f.readlines()\n",
    "with open(\"../data/iwslt-vi-en/dev.tok.vi\") as f:\n",
    "    vi_dev = f.readlines()\n",
    "short_viet_lines_dev, short_eng_lines_dev = [], []\n",
    "for idx in indices_short_viet_dev:\n",
    "    short_viet_lines_dev.append(vi_dev[idx])\n",
    "    short_eng_lines_dev.append(eng_dev[idx])"
   ]
  },
  {
   "cell_type": "code",
   "execution_count": 53,
   "metadata": {
    "collapsed": true
   },
   "outputs": [],
   "source": [
    "import pathlib\n",
    "\n",
    "pathlib.Path(\"../data/short-sentences-vi-en/\").mkdir(parents=True, exist_ok=True)\n",
    "with open(\"../data/short-sentences-vi-en/dev.tok.en\", \"w\") as f:\n",
    "    for line in short_eng_lines_dev:\n",
    "        f.write(line)\n",
    "with open(\"../data/short-sentences-vi-en/dev.tok.vi\", \"w\") as f:\n",
    "    for line in short_viet_lines_dev:\n",
    "        f.write(line)\n",
    "with open(\"../data/short-sentences-vi-en/train.tok.en\", \"w\") as f:\n",
    "    for line in short_eng_lines:\n",
    "        f.write(line)\n",
    "with open(\"../data/short-sentences-vi-en/train.tok.vi\", \"w\") as f:\n",
    "    for line in short_viet_lines:\n",
    "        f.write(line)"
   ]
  },
  {
   "cell_type": "code",
   "execution_count": null,
   "metadata": {
    "collapsed": true
   },
   "outputs": [],
   "source": []
  }
 ],
 "metadata": {
  "kernelspec": {
   "display_name": "Python [conda env:nlpclass]",
   "language": "python",
   "name": "conda-env-nlpclass-py"
  },
  "language_info": {
   "codemirror_mode": {
    "name": "ipython",
    "version": 3
   },
   "file_extension": ".py",
   "mimetype": "text/x-python",
   "name": "python",
   "nbconvert_exporter": "python",
   "pygments_lexer": "ipython3",
   "version": "3.6.6"
  }
 },
 "nbformat": 4,
 "nbformat_minor": 2
}
