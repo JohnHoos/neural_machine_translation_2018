{
 "cells": [
  {
   "cell_type": "code",
   "execution_count": 1,
   "metadata": {},
   "outputs": [],
   "source": [
    "import argparse\n",
    "import sys\n",
    "sys.path.append('../src')\n",
    "import loader\n",
    "import rnn_encoder_decoder\n",
    "from torchtext import data\n",
    "import torch\n",
    "from collections import Counter\n",
    "#import matplotlib.pyplot as plt\n",
    "#%matplotlib inline\n",
    "import torch.nn as nn\n",
    "import numpy as np"
   ]
  },
  {
   "cell_type": "code",
   "execution_count": 2,
   "metadata": {},
   "outputs": [],
   "source": [
    "from elmoformanylangs import Embedder"
   ]
  },
  {
   "cell_type": "code",
   "execution_count": 3,
   "metadata": {},
   "outputs": [],
   "source": [
    "torch.cuda.set_device(1)"
   ]
  },
  {
   "cell_type": "code",
   "execution_count": 4,
   "metadata": {},
   "outputs": [
    {
     "name": "stderr",
     "output_type": "stream",
     "text": [
      "2018-11-27 11:58:28,766 INFO: char embedding size: 15889\n",
      "2018-11-27 11:58:29,525 INFO: word embedding size: 140384\n",
      "2018-11-27 11:58:39,792 INFO: Model(\n",
      "  (token_embedder): ConvTokenEmbedder(\n",
      "    (word_emb_layer): EmbeddingLayer(\n",
      "      (embedding): Embedding(140384, 100, padding_idx=3)\n",
      "    )\n",
      "    (char_emb_layer): EmbeddingLayer(\n",
      "      (embedding): Embedding(15889, 50, padding_idx=15886)\n",
      "    )\n",
      "    (convolutions): ModuleList(\n",
      "      (0): Conv1d(50, 32, kernel_size=(1,), stride=(1,))\n",
      "      (1): Conv1d(50, 32, kernel_size=(2,), stride=(1,))\n",
      "      (2): Conv1d(50, 64, kernel_size=(3,), stride=(1,))\n",
      "      (3): Conv1d(50, 128, kernel_size=(4,), stride=(1,))\n",
      "      (4): Conv1d(50, 256, kernel_size=(5,), stride=(1,))\n",
      "      (5): Conv1d(50, 512, kernel_size=(6,), stride=(1,))\n",
      "      (6): Conv1d(50, 1024, kernel_size=(7,), stride=(1,))\n",
      "    )\n",
      "    (highways): Highway(\n",
      "      (_layers): ModuleList(\n",
      "        (0): Linear(in_features=2048, out_features=4096, bias=True)\n",
      "        (1): Linear(in_features=2048, out_features=4096, bias=True)\n",
      "      )\n",
      "    )\n",
      "    (projection): Linear(in_features=2148, out_features=512, bias=True)\n",
      "  )\n",
      "  (encoder): ElmobiLm(\n",
      "    (forward_layer_0): LstmCellWithProjection(\n",
      "      (input_linearity): Linear(in_features=512, out_features=16384, bias=False)\n",
      "      (state_linearity): Linear(in_features=512, out_features=16384, bias=True)\n",
      "      (state_projection): Linear(in_features=4096, out_features=512, bias=False)\n",
      "    )\n",
      "    (backward_layer_0): LstmCellWithProjection(\n",
      "      (input_linearity): Linear(in_features=512, out_features=16384, bias=False)\n",
      "      (state_linearity): Linear(in_features=512, out_features=16384, bias=True)\n",
      "      (state_projection): Linear(in_features=4096, out_features=512, bias=False)\n",
      "    )\n",
      "    (forward_layer_1): LstmCellWithProjection(\n",
      "      (input_linearity): Linear(in_features=512, out_features=16384, bias=False)\n",
      "      (state_linearity): Linear(in_features=512, out_features=16384, bias=True)\n",
      "      (state_projection): Linear(in_features=4096, out_features=512, bias=False)\n",
      "    )\n",
      "    (backward_layer_1): LstmCellWithProjection(\n",
      "      (input_linearity): Linear(in_features=512, out_features=16384, bias=False)\n",
      "      (state_linearity): Linear(in_features=512, out_features=16384, bias=True)\n",
      "      (state_projection): Linear(in_features=4096, out_features=512, bias=False)\n",
      "    )\n",
      "  )\n",
      ")\n"
     ]
    }
   ],
   "source": [
    "chinese_embedder = Embedder('../../ELMoForManyLangs/179')"
   ]
  },
  {
   "cell_type": "code",
   "execution_count": 5,
   "metadata": {},
   "outputs": [
    {
     "name": "stderr",
     "output_type": "stream",
     "text": [
      "2018-11-27 11:58:41,145 INFO: char embedding size: 6169\n",
      "2018-11-27 11:58:41,612 INFO: word embedding size: 71222\n",
      "2018-11-27 11:58:52,058 INFO: Model(\n",
      "  (token_embedder): ConvTokenEmbedder(\n",
      "    (word_emb_layer): EmbeddingLayer(\n",
      "      (embedding): Embedding(71222, 100, padding_idx=3)\n",
      "    )\n",
      "    (char_emb_layer): EmbeddingLayer(\n",
      "      (embedding): Embedding(6169, 50, padding_idx=6166)\n",
      "    )\n",
      "    (convolutions): ModuleList(\n",
      "      (0): Conv1d(50, 32, kernel_size=(1,), stride=(1,))\n",
      "      (1): Conv1d(50, 32, kernel_size=(2,), stride=(1,))\n",
      "      (2): Conv1d(50, 64, kernel_size=(3,), stride=(1,))\n",
      "      (3): Conv1d(50, 128, kernel_size=(4,), stride=(1,))\n",
      "      (4): Conv1d(50, 256, kernel_size=(5,), stride=(1,))\n",
      "      (5): Conv1d(50, 512, kernel_size=(6,), stride=(1,))\n",
      "      (6): Conv1d(50, 1024, kernel_size=(7,), stride=(1,))\n",
      "    )\n",
      "    (highways): Highway(\n",
      "      (_layers): ModuleList(\n",
      "        (0): Linear(in_features=2048, out_features=4096, bias=True)\n",
      "        (1): Linear(in_features=2048, out_features=4096, bias=True)\n",
      "      )\n",
      "    )\n",
      "    (projection): Linear(in_features=2148, out_features=512, bias=True)\n",
      "  )\n",
      "  (encoder): ElmobiLm(\n",
      "    (forward_layer_0): LstmCellWithProjection(\n",
      "      (input_linearity): Linear(in_features=512, out_features=16384, bias=False)\n",
      "      (state_linearity): Linear(in_features=512, out_features=16384, bias=True)\n",
      "      (state_projection): Linear(in_features=4096, out_features=512, bias=False)\n",
      "    )\n",
      "    (backward_layer_0): LstmCellWithProjection(\n",
      "      (input_linearity): Linear(in_features=512, out_features=16384, bias=False)\n",
      "      (state_linearity): Linear(in_features=512, out_features=16384, bias=True)\n",
      "      (state_projection): Linear(in_features=4096, out_features=512, bias=False)\n",
      "    )\n",
      "    (forward_layer_1): LstmCellWithProjection(\n",
      "      (input_linearity): Linear(in_features=512, out_features=16384, bias=False)\n",
      "      (state_linearity): Linear(in_features=512, out_features=16384, bias=True)\n",
      "      (state_projection): Linear(in_features=4096, out_features=512, bias=False)\n",
      "    )\n",
      "    (backward_layer_1): LstmCellWithProjection(\n",
      "      (input_linearity): Linear(in_features=512, out_features=16384, bias=False)\n",
      "      (state_linearity): Linear(in_features=512, out_features=16384, bias=True)\n",
      "      (state_projection): Linear(in_features=4096, out_features=512, bias=False)\n",
      "    )\n",
      "  )\n",
      ")\n"
     ]
    }
   ],
   "source": [
    "simplified_chinese_embedder = Embedder('../../ELMoForManyLangs/zhs.model')"
   ]
  },
  {
   "cell_type": "code",
   "execution_count": 6,
   "metadata": {},
   "outputs": [
    {
     "name": "stderr",
     "output_type": "stream",
     "text": [
      "2018-11-27 12:44:35,217 INFO: char embedding size: 3920\n",
      "2018-11-27 12:44:35,752 INFO: word embedding size: 88497\n",
      "2018-11-27 12:44:43,973 INFO: Model(\n",
      "  (token_embedder): ConvTokenEmbedder(\n",
      "    (word_emb_layer): EmbeddingLayer(\n",
      "      (embedding): Embedding(88497, 100, padding_idx=3)\n",
      "    )\n",
      "    (char_emb_layer): EmbeddingLayer(\n",
      "      (embedding): Embedding(3920, 50, padding_idx=3917)\n",
      "    )\n",
      "    (convolutions): ModuleList(\n",
      "      (0): Conv1d(50, 32, kernel_size=(1,), stride=(1,))\n",
      "      (1): Conv1d(50, 32, kernel_size=(2,), stride=(1,))\n",
      "      (2): Conv1d(50, 64, kernel_size=(3,), stride=(1,))\n",
      "      (3): Conv1d(50, 128, kernel_size=(4,), stride=(1,))\n",
      "      (4): Conv1d(50, 256, kernel_size=(5,), stride=(1,))\n",
      "      (5): Conv1d(50, 512, kernel_size=(6,), stride=(1,))\n",
      "      (6): Conv1d(50, 1024, kernel_size=(7,), stride=(1,))\n",
      "    )\n",
      "    (highways): Highway(\n",
      "      (_layers): ModuleList(\n",
      "        (0): Linear(in_features=2048, out_features=4096, bias=True)\n",
      "        (1): Linear(in_features=2048, out_features=4096, bias=True)\n",
      "      )\n",
      "    )\n",
      "    (projection): Linear(in_features=2148, out_features=512, bias=True)\n",
      "  )\n",
      "  (encoder): ElmobiLm(\n",
      "    (forward_layer_0): LstmCellWithProjection(\n",
      "      (input_linearity): Linear(in_features=512, out_features=16384, bias=False)\n",
      "      (state_linearity): Linear(in_features=512, out_features=16384, bias=True)\n",
      "      (state_projection): Linear(in_features=4096, out_features=512, bias=False)\n",
      "    )\n",
      "    (backward_layer_0): LstmCellWithProjection(\n",
      "      (input_linearity): Linear(in_features=512, out_features=16384, bias=False)\n",
      "      (state_linearity): Linear(in_features=512, out_features=16384, bias=True)\n",
      "      (state_projection): Linear(in_features=4096, out_features=512, bias=False)\n",
      "    )\n",
      "    (forward_layer_1): LstmCellWithProjection(\n",
      "      (input_linearity): Linear(in_features=512, out_features=16384, bias=False)\n",
      "      (state_linearity): Linear(in_features=512, out_features=16384, bias=True)\n",
      "      (state_projection): Linear(in_features=4096, out_features=512, bias=False)\n",
      "    )\n",
      "    (backward_layer_1): LstmCellWithProjection(\n",
      "      (input_linearity): Linear(in_features=512, out_features=16384, bias=False)\n",
      "      (state_linearity): Linear(in_features=512, out_features=16384, bias=True)\n",
      "      (state_projection): Linear(in_features=4096, out_features=512, bias=False)\n",
      "    )\n",
      "  )\n",
      ")\n",
      "2018-11-27 12:44:45,232 INFO: char embedding size: 4939\n",
      "2018-11-27 12:44:46,120 INFO: word embedding size: 167642\n",
      "2018-11-27 12:44:57,985 INFO: Model(\n",
      "  (token_embedder): ConvTokenEmbedder(\n",
      "    (word_emb_layer): EmbeddingLayer(\n",
      "      (embedding): Embedding(167642, 100, padding_idx=3)\n",
      "    )\n",
      "    (char_emb_layer): EmbeddingLayer(\n",
      "      (embedding): Embedding(4939, 50, padding_idx=4936)\n",
      "    )\n",
      "    (convolutions): ModuleList(\n",
      "      (0): Conv1d(50, 32, kernel_size=(1,), stride=(1,))\n",
      "      (1): Conv1d(50, 32, kernel_size=(2,), stride=(1,))\n",
      "      (2): Conv1d(50, 64, kernel_size=(3,), stride=(1,))\n",
      "      (3): Conv1d(50, 128, kernel_size=(4,), stride=(1,))\n",
      "      (4): Conv1d(50, 256, kernel_size=(5,), stride=(1,))\n",
      "      (5): Conv1d(50, 512, kernel_size=(6,), stride=(1,))\n",
      "      (6): Conv1d(50, 1024, kernel_size=(7,), stride=(1,))\n",
      "    )\n",
      "    (highways): Highway(\n",
      "      (_layers): ModuleList(\n",
      "        (0): Linear(in_features=2048, out_features=4096, bias=True)\n",
      "        (1): Linear(in_features=2048, out_features=4096, bias=True)\n",
      "      )\n",
      "    )\n",
      "    (projection): Linear(in_features=2148, out_features=512, bias=True)\n",
      "  )\n",
      "  (encoder): ElmobiLm(\n",
      "    (forward_layer_0): LstmCellWithProjection(\n",
      "      (input_linearity): Linear(in_features=512, out_features=16384, bias=False)\n",
      "      (state_linearity): Linear(in_features=512, out_features=16384, bias=True)\n",
      "      (state_projection): Linear(in_features=4096, out_features=512, bias=False)\n",
      "    )\n",
      "    (backward_layer_0): LstmCellWithProjection(\n",
      "      (input_linearity): Linear(in_features=512, out_features=16384, bias=False)\n",
      "      (state_linearity): Linear(in_features=512, out_features=16384, bias=True)\n",
      "      (state_projection): Linear(in_features=4096, out_features=512, bias=False)\n",
      "    )\n",
      "    (forward_layer_1): LstmCellWithProjection(\n",
      "      (input_linearity): Linear(in_features=512, out_features=16384, bias=False)\n",
      "      (state_linearity): Linear(in_features=512, out_features=16384, bias=True)\n",
      "      (state_projection): Linear(in_features=4096, out_features=512, bias=False)\n",
      "    )\n",
      "    (backward_layer_1): LstmCellWithProjection(\n",
      "      (input_linearity): Linear(in_features=512, out_features=16384, bias=False)\n",
      "      (state_linearity): Linear(in_features=512, out_features=16384, bias=True)\n",
      "      (state_projection): Linear(in_features=4096, out_features=512, bias=False)\n",
      "    )\n",
      "  )\n",
      ")\n"
     ]
    }
   ],
   "source": [
    "# FileNotFoundError: [Errno 2] No such file or directory: \n",
    "# '/Users/yijialiu/work/projects/conll2018/models/word_elmo/cnn_50_100_512_4096_sample.json'\n",
    "vietnamese_embedder = Embedder('../../ELMoForManyLangs/178')\n",
    "# FileNotFoundError: [Errno 2] No such file or directory: \n",
    "# '/Users/yijialiu/work/projects/conll2018/models/word_elmo/cnn_50_100_512_4096_sample.json'\n",
    "english_embedder = Embedder('../../ELMoForManyLangs/144')"
   ]
  },
  {
   "cell_type": "code",
   "execution_count": 7,
   "metadata": {},
   "outputs": [
    {
     "name": "stdout",
     "output_type": "stream",
     "text": [
      "Most common source vocabs: [('的', 274634), ('我', 79658), ('我们', 68696), ('是', 66628), ('在', 59189), ('了', 53063), ('你', 40743), ('一个', 31866), ('这', 26149), ('有', 25417)]\n",
      "Source vocab size: 39526\n",
      "Most common english vocabs: [('the', 178698), ('and', 128791), ('to', 106119), ('of', 98919), ('a', 90534), ('that', 80454), ('i', 68877), ('in', 66951), ('it', 64198), ('you', 61161)]\n",
      "English vocab size: 28786\n"
     ]
    }
   ],
   "source": [
    "# MUST USE GPU (?)\n",
    "parser = rnn_encoder_decoder.rnn_encoder_decoder_argparser()\n",
    "args = parser.parse_args([])\n",
    "args.cpu = True\n",
    "args.split_chinese_into_characters = False\n",
    "args.data='../data/new-zh-en-tok/'\n",
    "train_data, val_data, test_data, src, trg = loader.load_data(args)"
   ]
  },
  {
   "cell_type": "code",
   "execution_count": 8,
   "metadata": {},
   "outputs": [
    {
     "name": "stdout",
     "output_type": "stream",
     "text": [
      "Most common source vocabs: [('的', 281572), ('我', 154640), ('是', 121356), ('们', 120060), ('一', 103866), ('这', 96814), ('在', 78965), ('个', 75364), ('有', 65655), ('了', 58955)]\n",
      "Source vocab size: 4197\n",
      "Most common english vocabs: [('the', 178698), ('and', 128791), ('to', 106119), ('of', 98919), ('a', 90534), ('that', 80454), ('i', 68877), ('in', 66951), ('it', 64198), ('you', 61161)]\n",
      "English vocab size: 28786\n"
     ]
    }
   ],
   "source": [
    "parser = rnn_encoder_decoder.rnn_encoder_decoder_argparser()\n",
    "args = parser.parse_args([])\n",
    "args.cpu = True\n",
    "args.split_chinese_into_characters = True\n",
    "args.data='../data/new-zh-en-tok/'\n",
    "c_train_data, c_val_data, c_test_data, c_src, c_trg = loader.load_data(args)"
   ]
  },
  {
   "cell_type": "code",
   "execution_count": 9,
   "metadata": {},
   "outputs": [],
   "source": [
    "def save_embedding(lang, given_embedder, output_name):\n",
    "    batched_itos = []\n",
    "\n",
    "    for i in range(len(lang.vocab.itos)):\n",
    "        if i % 32 == 0:\n",
    "            if i != 0:\n",
    "                batched_itos.append(current_batch)\n",
    "            current_batch = []\n",
    "        current_batch.append(lang.vocab.itos[i])\n",
    "    batched_itos.append(current_batch)\n",
    "    \n",
    "    print(\"numbatch,\",len(batched_itos))\n",
    "    # change the vectors\n",
    "    batched_itos[0][0], batched_itos[0][1], batched_itos[0][2], batched_itos[0][3] = '<oov>', '<pad>', '<bos>', '<eos>'\n",
    "    \n",
    "    torch.cuda.set_device(1)\n",
    "    tokenized_itos = given_embedder.sents2elmo(batched_itos, output_layer=0)\n",
    "    \n",
    "    #embedding = nn.Embedding(\n",
    "    #        len(lang.vocab.itos), \n",
    "    #        1024, \n",
    "    #        padding_idx = 1\n",
    "    #    )\n",
    "    concatenated = np.concatenate(tokenized_itos)\n",
    "    for i, each in enumerate(concatenated):\n",
    "        if np.array_equal(each, concatenated[0]):\n",
    "            print(i)\n",
    "            \n",
    "    oov_indices = []\n",
    "    for i, each in enumerate(lang.vocab.itos):\n",
    "        if i<4:\n",
    "            pass\n",
    "        if each not in given_embedder.model.token_embedder.word_emb_layer.word2id:\n",
    "            oov_indices.append(i)\n",
    "    print(\"len_oov_indices\",len(oov_indices))\n",
    "            \n",
    "    #embedding.load_state_dict({'weight': torch.FloatTensor(concatenated)})\n",
    "    torch.save({'weight': torch.FloatTensor(concatenated),\n",
    "               'oov_indices': oov_indices}, output_name)\n",
    "    \n",
    "    \n",
    "    #return oov_indices\n",
    "    \n"
   ]
  },
  {
   "cell_type": "code",
   "execution_count": 10,
   "metadata": {},
   "outputs": [
    {
     "name": "stdout",
     "output_type": "stream",
     "text": [
      "numbatch, 1236\n"
     ]
    },
    {
     "name": "stderr",
     "output_type": "stream",
     "text": [
      "2018-11-27 12:51:29,605 INFO: 20 batches, avg len: 34.0\n",
      "2018-11-27 12:51:34,259 INFO: Finished 1000 sentences.\n"
     ]
    },
    {
     "name": "stdout",
     "output_type": "stream",
     "text": [
      "0\n",
      "len_oov_indices 27122\n",
      "numbatch, 1236\n"
     ]
    },
    {
     "name": "stderr",
     "output_type": "stream",
     "text": [
      "2018-11-27 12:51:38,732 INFO: 20 batches, avg len: 34.0\n",
      "2018-11-27 12:51:42,172 INFO: Finished 1000 sentences.\n"
     ]
    },
    {
     "name": "stdout",
     "output_type": "stream",
     "text": [
      "0\n",
      "len_oov_indices 17018\n",
      "numbatch, 900\n"
     ]
    },
    {
     "name": "stderr",
     "output_type": "stream",
     "text": [
      "2018-11-27 12:51:46,793 INFO: 15 batches, avg len: 34.0\n"
     ]
    },
    {
     "name": "stdout",
     "output_type": "stream",
     "text": [
      "0\n",
      "len_oov_indices 5839\n"
     ]
    }
   ],
   "source": [
    "save_embedding(src, chinese_embedder, 'new_zh_en_chinese_words_traditional.pt')\n",
    "save_embedding(src, simplified_chinese_embedder, 'new_zh_en_chinese_words_simplified.pt')\n",
    "save_embedding(trg, english_embedder, 'new_zh_en_english_words.pt')"
   ]
  },
  {
   "cell_type": "code",
   "execution_count": 11,
   "metadata": {
    "scrolled": true
   },
   "outputs": [
    {
     "name": "stdout",
     "output_type": "stream",
     "text": [
      "numbatch, 132\n"
     ]
    },
    {
     "name": "stderr",
     "output_type": "stream",
     "text": [
      "2018-11-27 12:51:50,823 INFO: 3 batches, avg len: 33.8\n"
     ]
    },
    {
     "name": "stdout",
     "output_type": "stream",
     "text": [
      "0\n",
      "len_oov_indices 244\n",
      "numbatch, 132\n"
     ]
    },
    {
     "name": "stderr",
     "output_type": "stream",
     "text": [
      "2018-11-27 12:51:51,881 INFO: 3 batches, avg len: 33.8\n"
     ]
    },
    {
     "name": "stdout",
     "output_type": "stream",
     "text": [
      "0\n",
      "len_oov_indices 2087\n"
     ]
    }
   ],
   "source": [
    "save_embedding(c_src, chinese_embedder, 'new_zh_en_chinese_chars_traditional.pt')\n",
    "save_embedding(c_src, simplified_chinese_embedder, 'new_zh_en_chinese_chars_simplified.pt')"
   ]
  },
  {
   "cell_type": "code",
   "execution_count": 17,
   "metadata": {},
   "outputs": [
    {
     "name": "stdout",
     "output_type": "stream",
     "text": [
      "Most common source vocabs: [('là', 8210), ('tôi', 3628), ('không', 3530), ('Và', 3413), ('một', 3290), ('có', 2911), ('đó', 2883), ('Tôi', 2827), ('của', 2605), ('này', 2532)]\n",
      "Source vocab size: 6495\n",
      "Most common english vocabs: [('the', 10506), ('it', 7023), ('and', 6403), (\"'s\", 6272), ('a', 5965), ('to', 5712), ('i', 5688), ('is', 5612), ('you', 5432), ('of', 4902)]\n",
      "English vocab size: 5893\n"
     ]
    }
   ],
   "source": [
    "parser = rnn_encoder_decoder.rnn_encoder_decoder_argparser()\n",
    "args = parser.parse_args([])\n",
    "args.cpu = True\n",
    "args.source_lang = 'vi'\n",
    "args.data = '../data/short-sentences-vi-en/'\n",
    "sv_train_data, sv_val_data, sv_test_data, sv_src, sv_trg = loader.load_data(args)"
   ]
  },
  {
   "cell_type": "code",
   "execution_count": 12,
   "metadata": {},
   "outputs": [
    {
     "name": "stdout",
     "output_type": "stream",
     "text": [
      "Most common source vocabs: [('是', 6129), ('我', 5787), ('的', 5083), ('这', 4994), ('们', 3375), ('谢', 3329), ('不', 2585), ('了', 2554), ('一', 2490), ('有', 2350)]\n",
      "Source vocab size: 2197\n",
      "Most common english vocabs: [('it', 4519), ('the', 4424), ('you', 4284), (\"'s\", 4063), ('i', 3494), ('and', 3284), ('is', 3032), ('a', 2842), ('that', 2833), ('to', 2528)]\n",
      "English vocab size: 3163\n"
     ]
    }
   ],
   "source": [
    "parser = rnn_encoder_decoder.rnn_encoder_decoder_argparser()\n",
    "args = parser.parse_args([])\n",
    "args.cpu = True\n",
    "args.split_chinese_into_characters = True\n",
    "args.data = '../data/new-short-sentences-zh-en/'\n",
    "sc_train_data, sc_val_data, sc_test_data, sc_src, sc_trg = loader.load_data(args)"
   ]
  },
  {
   "cell_type": "code",
   "execution_count": 13,
   "metadata": {},
   "outputs": [
    {
     "name": "stdout",
     "output_type": "stream",
     "text": [
      "Most common source vocabs: [('的', 4775), ('我', 3697), ('是', 3175), ('了', 2307), ('这', 1973), ('我们', 1779), ('你', 1588), ('谢谢', 1355), ('它', 929), ('有', 919)]\n",
      "Source vocab size: 3617\n",
      "Most common english vocabs: [('it', 4519), ('the', 4424), ('you', 4284), (\"'s\", 4063), ('i', 3494), ('and', 3284), ('is', 3032), ('a', 2842), ('that', 2833), ('to', 2528)]\n",
      "English vocab size: 3163\n"
     ]
    }
   ],
   "source": [
    "parser = rnn_encoder_decoder.rnn_encoder_decoder_argparser()\n",
    "args = parser.parse_args([])\n",
    "args.cpu = True\n",
    "args.split_chinese_into_characters = False\n",
    "args.data = '../data/new-short-sentences-zh-en/'\n",
    "s_train_data, s_val_data, s_test_data, s_src, s_trg = loader.load_data(args)"
   ]
  },
  {
   "cell_type": "code",
   "execution_count": 18,
   "metadata": {},
   "outputs": [
    {
     "name": "stdout",
     "output_type": "stream",
     "text": [
      "numbatch, 114\n"
     ]
    },
    {
     "name": "stderr",
     "output_type": "stream",
     "text": [
      "2018-11-27 13:38:47,841 INFO: 2 batches, avg len: 33.7\n"
     ]
    },
    {
     "name": "stdout",
     "output_type": "stream",
     "text": [
      "0\n",
      "len_oov_indices 1699\n",
      "numbatch, 114\n"
     ]
    },
    {
     "name": "stderr",
     "output_type": "stream",
     "text": [
      "2018-11-27 13:38:48,697 INFO: 2 batches, avg len: 33.7\n"
     ]
    },
    {
     "name": "stdout",
     "output_type": "stream",
     "text": [
      "0\n",
      "len_oov_indices 567\n",
      "numbatch, 99\n"
     ]
    },
    {
     "name": "stderr",
     "output_type": "stream",
     "text": [
      "2018-11-27 13:38:49,561 INFO: 2 batches, avg len: 33.9\n"
     ]
    },
    {
     "name": "stdout",
     "output_type": "stream",
     "text": [
      "0\n",
      "len_oov_indices 68\n",
      "numbatch, 69\n"
     ]
    },
    {
     "name": "stderr",
     "output_type": "stream",
     "text": [
      "2018-11-27 13:38:50,231 INFO: 2 batches, avg len: 33.8\n"
     ]
    },
    {
     "name": "stdout",
     "output_type": "stream",
     "text": [
      "0\n",
      "len_oov_indices 13\n",
      "numbatch, 69\n"
     ]
    },
    {
     "name": "stderr",
     "output_type": "stream",
     "text": [
      "2018-11-27 13:38:50,861 INFO: 2 batches, avg len: 33.8\n"
     ]
    },
    {
     "name": "stdout",
     "output_type": "stream",
     "text": [
      "0\n",
      "len_oov_indices 519\n"
     ]
    }
   ],
   "source": [
    "save_embedding(s_src, chinese_embedder, 'new_short_sentences_zh_en_chinese_words_traditional.pt')\n",
    "save_embedding(s_src, simplified_chinese_embedder, 'new_short_sentences_zh_en_chinese_words_simplified.pt')\n",
    "save_embedding(s_trg, english_embedder, 'new_short_sentences_zh_en_english_words.pt')\n",
    "save_embedding(sc_src, chinese_embedder, 'new_short_sentences_zh_en_chinese_chars_traditional.pt')\n",
    "save_embedding(sc_src, simplified_chinese_embedder, 'new_short_sentences_zh_en_chinese_chars_simplified.pt')\n",
    "#save_embedding(sv_src, vietnamese_embedder, 'short_sentences_vi_en_vietnamese_words.pt')\n",
    "#save_embedding(sv_trg, english_embedder, 'short_sentences_vi_en_english_words.pt')"
   ]
  },
  {
   "cell_type": "code",
   "execution_count": 14,
   "metadata": {},
   "outputs": [
    {
     "name": "stdout",
     "output_type": "stream",
     "text": [
      "Most common source vocabs: [('là', 3653), ('và', 3561), ('một', 3166), ('tôi', 2982), ('những', 2876), ('của', 2792), ('đó', 2011), ('có', 1891), ('bạn', 1886), ('không', 1813)]\n",
      "Source vocab size: 4914\n",
      "Most common english vocabs: [('the', 7905), ('and', 6134), ('to', 4976), ('of', 4449), ('a', 3971), ('that', 3642), ('i', 3260), ('in', 3165), ('it', 2946), ('we', 2827)]\n",
      "English vocab size: 4869\n"
     ]
    }
   ],
   "source": [
    "parser = rnn_encoder_decoder.rnn_encoder_decoder_argparser()\n",
    "args = parser.parse_args([])\n",
    "args.cpu = True\n",
    "args.source_lang = 'vi'\n",
    "args.data = '../data/small-vi-en/'\n",
    "smallv_train_data, smallv_val_data, smallv_test_data, smallv_src, smallv_trg = loader.load_data(args)"
   ]
  },
  {
   "cell_type": "code",
   "execution_count": 15,
   "metadata": {},
   "outputs": [
    {
     "name": "stdout",
     "output_type": "stream",
     "text": [
      "Most common source vocabs: [('的', 13147), ('我', 7574), ('们', 6172), ('一', 5874), ('是', 5641), ('这', 4599), ('在', 3946), ('个', 3715), ('有', 3283), ('不', 2989)]\n",
      "Source vocab size: 2427\n",
      "Most common english vocabs: [('the', 8391), ('and', 5991), ('to', 5097), ('of', 4513), ('a', 3983), ('that', 3786), ('in', 3310), ('it', 3082), ('i', 3030), ('we', 2979)]\n",
      "English vocab size: 4849\n"
     ]
    }
   ],
   "source": [
    "parser = rnn_encoder_decoder.rnn_encoder_decoder_argparser()\n",
    "args = parser.parse_args([])\n",
    "args.cpu = True\n",
    "args.split_chinese_into_characters = True\n",
    "args.data = '../data/small-zh-en/'\n",
    "smallc_train_data, smallc_val_data, smallc_test_data, smallc_src, smallc_trg = loader.load_data(args)"
   ]
  },
  {
   "cell_type": "code",
   "execution_count": 16,
   "metadata": {},
   "outputs": [
    {
     "name": "stdout",
     "output_type": "stream",
     "text": [
      "Most common source vocabs: [('的', 12731), ('我', 3783), ('我们', 3648), ('是', 3201), ('在', 2693), ('了', 2393), ('你', 1857), ('这', 1707), ('一个', 1449), ('他们', 1249)]\n",
      "Source vocab size: 7276\n",
      "Most common english vocabs: [('the', 8391), ('and', 5991), ('to', 5097), ('of', 4513), ('a', 3983), ('that', 3786), ('in', 3310), ('it', 3082), ('i', 3030), ('we', 2979)]\n",
      "English vocab size: 4849\n"
     ]
    }
   ],
   "source": [
    "parser = rnn_encoder_decoder.rnn_encoder_decoder_argparser()\n",
    "args = parser.parse_args([])\n",
    "args.cpu = True\n",
    "args.split_chinese_into_characters = False\n",
    "args.data = '../data/small-zh-en/'\n",
    "small_train_data, small_val_data, small_test_data, small_src, small_trg = loader.load_data(args)"
   ]
  },
  {
   "cell_type": "code",
   "execution_count": 19,
   "metadata": {},
   "outputs": [
    {
     "name": "stdout",
     "output_type": "stream",
     "text": [
      "numbatch, 228\n"
     ]
    },
    {
     "name": "stderr",
     "output_type": "stream",
     "text": [
      "2018-11-27 13:40:03,301 INFO: 4 batches, avg len: 33.9\n"
     ]
    },
    {
     "name": "stdout",
     "output_type": "stream",
     "text": [
      "0\n",
      "len_oov_indices 3768\n",
      "numbatch, 228\n"
     ]
    },
    {
     "name": "stderr",
     "output_type": "stream",
     "text": [
      "2018-11-27 13:40:04,929 INFO: 4 batches, avg len: 33.9\n"
     ]
    },
    {
     "name": "stdout",
     "output_type": "stream",
     "text": [
      "0\n",
      "len_oov_indices 1492\n",
      "numbatch, 152\n"
     ]
    },
    {
     "name": "stderr",
     "output_type": "stream",
     "text": [
      "2018-11-27 13:40:06,516 INFO: 3 batches, avg len: 33.9\n"
     ]
    },
    {
     "name": "stdout",
     "output_type": "stream",
     "text": [
      "0\n",
      "len_oov_indices 238\n"
     ]
    },
    {
     "name": "stderr",
     "output_type": "stream",
     "text": [
      "2018-11-27 13:40:07,529 INFO: 2 batches, avg len: 33.9\n"
     ]
    },
    {
     "name": "stdout",
     "output_type": "stream",
     "text": [
      "numbatch, 76\n",
      "0\n",
      "len_oov_indices 16\n"
     ]
    },
    {
     "name": "stderr",
     "output_type": "stream",
     "text": [
      "2018-11-27 13:40:08,195 INFO: 2 batches, avg len: 33.9\n"
     ]
    },
    {
     "name": "stdout",
     "output_type": "stream",
     "text": [
      "numbatch, 76\n",
      "0\n",
      "len_oov_indices 664\n",
      "numbatch, 154\n"
     ]
    },
    {
     "name": "stderr",
     "output_type": "stream",
     "text": [
      "2018-11-27 13:40:09,120 INFO: 3 batches, avg len: 33.9\n"
     ]
    },
    {
     "name": "stdout",
     "output_type": "stream",
     "text": [
      "0\n",
      "len_oov_indices 2865\n",
      "numbatch, 153\n"
     ]
    },
    {
     "name": "stderr",
     "output_type": "stream",
     "text": [
      "2018-11-27 13:40:10,432 INFO: 3 batches, avg len: 33.8\n"
     ]
    },
    {
     "name": "stdout",
     "output_type": "stream",
     "text": [
      "0\n",
      "len_oov_indices 236\n"
     ]
    }
   ],
   "source": [
    "save_embedding(small_src, chinese_embedder, 'small_zh_en_chinese_words_traditional.pt')\n",
    "save_embedding(small_src, simplified_chinese_embedder, 'small_zh_en_chinese_words_simplified.pt')\n",
    "save_embedding(small_trg, english_embedder, 'small_zh_en_english_words.pt')\n",
    "save_embedding(smallc_src, chinese_embedder, 'small_zh_en_chinese_chars_traditional.pt')\n",
    "save_embedding(smallc_src, simplified_chinese_embedder, 'small_zh_en_chinese_chars_simplified.pt')\n",
    "save_embedding(smallv_src, vietnamese_embedder, 'small_vi_en_vietnamese_words.pt')\n",
    "save_embedding(smallv_trg, english_embedder, 'small_vi_en_english_words.pt')"
   ]
  },
  {
   "cell_type": "code",
   "execution_count": 20,
   "metadata": {},
   "outputs": [
    {
     "name": "stdout",
     "output_type": "stream",
     "text": [
      "Most common source vocabs: [('là', 38329), ('và', 28298), ('một', 27343), ('tôi', 27258), ('của', 24315), ('những', 24282), ('có', 18686), ('không', 18340), ('bạn', 17978), ('đó', 17615)]\n",
      "Source vocab size: 16704\n",
      "Most common english vocabs: [('the', 73416), ('and', 51795), ('to', 43609), ('of', 39789), ('a', 37909), ('that', 32197), ('i', 31659), ('it', 28815), ('in', 27521), ('you', 25988)]\n",
      "English vocab size: 18080\n",
      "Most common source vocabs: [('的', 188726), ('我', 109787), ('是', 89825), ('一', 85783), ('们', 83289), ('这', 70134), ('个', 59625), ('在', 54736), ('有', 51594), ('不', 44758)]\n",
      "Source vocab size: 3949\n",
      "Most common english vocabs: [('the', 117781), ('and', 82004), ('to', 69348), ('of', 64152), ('a', 61344), ('that', 51779), ('i', 49578), ('it', 46830), ('in', 43940), ('you', 42115)]\n",
      "English vocab size: 23242\n",
      "Most common source vocabs: [('的', 182046), ('我', 59966), ('是', 52228), ('我们', 47774), ('在', 37205), ('了', 36639), ('你', 28364), ('这', 27143), ('一个', 23217), ('他们', 17061)]\n",
      "Source vocab size: 38455\n",
      "Most common english vocabs: [('the', 117781), ('and', 82004), ('to', 69348), ('of', 64152), ('a', 61344), ('that', 51779), ('i', 49578), ('it', 46830), ('in', 43940), ('you', 42115)]\n",
      "English vocab size: 23242\n",
      "Most common source vocabs: [('的', 188481), ('我', 109668), ('是', 87911), ('们', 83195), ('一', 71305), ('这', 69695), ('在', 53484), ('个', 52828), ('有', 45875), ('了', 41211)]\n",
      "Source vocab size: 3947\n",
      "Most common english vocabs: [('the', 117781), ('and', 82004), ('to', 69348), ('of', 64152), ('a', 61344), ('that', 51779), ('i', 49578), ('it', 46830), ('in', 43940), ('you', 42115)]\n",
      "English vocab size: 23242\n",
      "Most common source vocabs: [('的', 183649), ('我', 57418), ('是', 48367), ('我们', 47774), ('在', 39483), ('了', 37280), ('你', 28299), ('一个', 21922), ('这', 19570), ('有', 17975)]\n",
      "Source vocab size: 31700\n",
      "Most common english vocabs: [('the', 117781), ('and', 82004), ('to', 69348), ('of', 64152), ('a', 61344), ('that', 51779), ('i', 49578), ('it', 46830), ('in', 43940), ('you', 42115)]\n",
      "English vocab size: 23242\n",
      "numbatch, 991\n"
     ]
    },
    {
     "name": "stderr",
     "output_type": "stream",
     "text": [
      "2018-11-27 13:45:55,067 INFO: 16 batches, avg len: 34.0\n"
     ]
    },
    {
     "name": "stdout",
     "output_type": "stream",
     "text": [
      "0\n",
      "len_oov_indices 21063\n",
      "numbatch, 991\n"
     ]
    },
    {
     "name": "stderr",
     "output_type": "stream",
     "text": [
      "2018-11-27 13:46:01,189 INFO: 16 batches, avg len: 34.0\n"
     ]
    },
    {
     "name": "stdout",
     "output_type": "stream",
     "text": [
      "0\n",
      "len_oov_indices 12139\n",
      "numbatch, 727\n"
     ]
    },
    {
     "name": "stderr",
     "output_type": "stream",
     "text": [
      "2018-11-27 13:46:07,808 INFO: 12 batches, avg len: 34.0\n"
     ]
    },
    {
     "name": "stdout",
     "output_type": "stream",
     "text": [
      "0\n",
      "len_oov_indices 3816\n",
      "numbatch, 124\n"
     ]
    },
    {
     "name": "stderr",
     "output_type": "stream",
     "text": [
      "2018-11-27 13:46:11,158 INFO: 2 batches, avg len: 33.8\n"
     ]
    },
    {
     "name": "stdout",
     "output_type": "stream",
     "text": [
      "0\n",
      "len_oov_indices 190\n",
      "numbatch, 124\n"
     ]
    },
    {
     "name": "stderr",
     "output_type": "stream",
     "text": [
      "2018-11-27 13:46:12,035 INFO: 2 batches, avg len: 33.8\n"
     ]
    },
    {
     "name": "stdout",
     "output_type": "stream",
     "text": [
      "0\n",
      "len_oov_indices 1854\n",
      "numbatch, 1202\n"
     ]
    },
    {
     "name": "stderr",
     "output_type": "stream",
     "text": [
      "2018-11-27 13:46:14,967 INFO: 19 batches, avg len: 34.0\n",
      "2018-11-27 13:46:18,259 INFO: Finished 1000 sentences.\n"
     ]
    },
    {
     "name": "stdout",
     "output_type": "stream",
     "text": [
      "0\n",
      "len_oov_indices 25477\n",
      "numbatch, 1202\n"
     ]
    },
    {
     "name": "stderr",
     "output_type": "stream",
     "text": [
      "2018-11-27 13:46:22,206 INFO: 19 batches, avg len: 34.0\n",
      "2018-11-27 13:46:25,468 INFO: Finished 1000 sentences.\n"
     ]
    },
    {
     "name": "stdout",
     "output_type": "stream",
     "text": [
      "0\n",
      "len_oov_indices 15972\n",
      "numbatch, 727\n"
     ]
    },
    {
     "name": "stderr",
     "output_type": "stream",
     "text": [
      "2018-11-27 13:46:29,702 INFO: 12 batches, avg len: 34.0\n"
     ]
    },
    {
     "name": "stdout",
     "output_type": "stream",
     "text": [
      "0\n",
      "len_oov_indices 3816\n",
      "numbatch, 124\n"
     ]
    },
    {
     "name": "stderr",
     "output_type": "stream",
     "text": [
      "2018-11-27 13:46:33,045 INFO: 2 batches, avg len: 33.8\n"
     ]
    },
    {
     "name": "stdout",
     "output_type": "stream",
     "text": [
      "0\n",
      "len_oov_indices 178\n",
      "numbatch, 124\n"
     ]
    },
    {
     "name": "stderr",
     "output_type": "stream",
     "text": [
      "2018-11-27 13:46:33,840 INFO: 2 batches, avg len: 33.8\n"
     ]
    },
    {
     "name": "stdout",
     "output_type": "stream",
     "text": [
      "0\n",
      "len_oov_indices 1867\n",
      "numbatch, 522\n"
     ]
    },
    {
     "name": "stderr",
     "output_type": "stream",
     "text": [
      "2018-11-27 13:46:35,870 INFO: 9 batches, avg len: 34.0\n"
     ]
    },
    {
     "name": "stdout",
     "output_type": "stream",
     "text": [
      "0\n",
      "len_oov_indices 10371\n",
      "numbatch, 565\n"
     ]
    },
    {
     "name": "stderr",
     "output_type": "stream",
     "text": [
      "2018-11-27 13:46:40,016 INFO: 9 batches, avg len: 34.0\n"
     ]
    },
    {
     "name": "stdout",
     "output_type": "stream",
     "text": [
      "0\n",
      "len_oov_indices 2314\n"
     ]
    }
   ],
   "source": [
    "parser = rnn_encoder_decoder.rnn_encoder_decoder_argparser()\n",
    "args = parser.parse_args([])\n",
    "args.cpu = True\n",
    "args.source_lang = 'vi'\n",
    "args.data = '../data/1std-sentences-vi-en/'\n",
    "_, _, _, one_std_v_src, one_std_v_trg = loader.load_data(args)\n",
    "parser = rnn_encoder_decoder.rnn_encoder_decoder_argparser()\n",
    "args = parser.parse_args([])\n",
    "args.cpu = True\n",
    "args.split_chinese_into_characters = True\n",
    "args.data = '../data/1std-sentences-zh-en/'\n",
    "_, _, _, one_std_c_src, one_std_c_trg = loader.load_data(args)\n",
    "parser = rnn_encoder_decoder.rnn_encoder_decoder_argparser()\n",
    "args = parser.parse_args([])\n",
    "args.cpu = True\n",
    "args.split_chinese_into_characters = False\n",
    "args.data = '../data/1std-sentences-zh-en/'\n",
    "_, _, _, one_std_src, one_std_trg = loader.load_data(args)\n",
    "parser = rnn_encoder_decoder.rnn_encoder_decoder_argparser()\n",
    "args = parser.parse_args([])\n",
    "args.cpu = True\n",
    "args.split_chinese_into_characters = True\n",
    "args.data = '../data/new-1std-sentences-zh-en/'\n",
    "_, _, _, new_one_std_c_src, new_one_std_c_trg = loader.load_data(args)\n",
    "parser = rnn_encoder_decoder.rnn_encoder_decoder_argparser()\n",
    "args = parser.parse_args([])\n",
    "args.cpu = True\n",
    "args.split_chinese_into_characters = False\n",
    "args.data = '../data/new-1std-sentences-zh-en/'\n",
    "_, _, _, new_one_std_src, new_one_std_trg = loader.load_data(args)\n",
    "\n",
    "save_embedding(new_one_std_src, chinese_embedder, 'new_one_std_zh_en_chinese_words_traditional.pt')\n",
    "save_embedding(new_one_std_src, simplified_chinese_embedder, 'new_one_std_zh_en_chinese_words_simplified.pt')\n",
    "save_embedding(new_one_std_trg, english_embedder, 'new_one_std_zh_en_english_words.pt')\n",
    "save_embedding(new_one_std_c_src, chinese_embedder, 'new_one_std_zh_en_chinese_chars_traditional.pt')\n",
    "save_embedding(new_one_std_c_src, simplified_chinese_embedder, 'new_one_std_zh_en_chinese_chars_simplified.pt')\n",
    "\n",
    "\n",
    "save_embedding(one_std_src, chinese_embedder, 'one_std_zh_en_chinese_words_traditional.pt')\n",
    "save_embedding(one_std_src, simplified_chinese_embedder, 'one_std_zh_en_chinese_words_simplified.pt')\n",
    "save_embedding(one_std_trg, english_embedder, 'one_std_zh_en_english_words.pt')\n",
    "save_embedding(one_std_c_src, chinese_embedder, 'one_std_zh_en_chinese_chars_traditional.pt')\n",
    "save_embedding(one_std_c_src, simplified_chinese_embedder, 'one_std_zh_en_chinese_chars_simplified.pt')\n",
    "save_embedding(one_std_v_src, vietnamese_embedder, 'one_std_vi_en_vietnamese_words.pt')\n",
    "save_embedding(one_std_v_trg, english_embedder, 'one_std_vi_en_english_words.pt')"
   ]
  },
  {
   "cell_type": "code",
   "execution_count": null,
   "metadata": {},
   "outputs": [],
   "source": []
  }
 ],
 "metadata": {
  "kernelspec": {
   "display_name": "Python 3",
   "language": "python",
   "name": "python3"
  },
  "language_info": {
   "codemirror_mode": {
    "name": "ipython",
    "version": 3
   },
   "file_extension": ".py",
   "mimetype": "text/x-python",
   "name": "python",
   "nbconvert_exporter": "python",
   "pygments_lexer": "ipython3",
   "version": "3.6.6"
  }
 },
 "nbformat": 4,
 "nbformat_minor": 2
}
