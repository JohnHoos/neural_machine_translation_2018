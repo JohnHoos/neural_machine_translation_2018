{
 "cells": [
  {
   "cell_type": "code",
   "execution_count": 1,
   "metadata": {
    "collapsed": true
   },
   "outputs": [],
   "source": [
    "import argparse\n",
    "import sys\n",
    "sys.path.append('../src')\n",
    "import loader\n",
    "import rnn_encoder_decoder\n",
    "from torchtext import data\n",
    "import torch\n",
    "from collections import Counter\n",
    "import matplotlib.pyplot as plt\n",
    "%matplotlib inline"
   ]
  },
  {
   "cell_type": "code",
   "execution_count": 2,
   "metadata": {
    "collapsed": true
   },
   "outputs": [],
   "source": [
    "# MUST USE GPU (?)\n",
    "parser = rnn_encoder_decoder.rnn_encoder_decoder_argparser()\n",
    "args = parser.parse_args([])\n",
    "#args.cpu = True\n",
    "args.split_chinese_into_characters = False"
   ]
  },
  {
   "cell_type": "code",
   "execution_count": 3,
   "metadata": {},
   "outputs": [
    {
     "name": "stdout",
     "output_type": "stream",
     "text": [
      "Most common source vocabs: [('的', 272264), ('我', 83174), ('是', 71290), ('我们', 68696), ('在', 55727), ('了', 52197), ('你', 40824), ('这', 36049), ('一个', 33590), ('他们', 25256)]\n",
      "Source vocab size: 47127\n",
      "Most common english vocabs: [('the', 178698), ('and', 128020), ('to', 106119), ('of', 98919), ('a', 90534), ('that', 80454), ('i', 68877), ('in', 66951), ('it', 64198), ('you', 61161)]\n",
      "English vocab size: 28791\n"
     ]
    }
   ],
   "source": [
    "train_data, val_data, test_data, src, trg = loader.load_data(args)"
   ]
  },
  {
   "cell_type": "code",
   "execution_count": 16,
   "metadata": {
    "collapsed": true
   },
   "outputs": [],
   "source": [
    "trg_keys = list(trg.vocab.stoi.keys())"
   ]
  },
  {
   "cell_type": "code",
   "execution_count": 20,
   "metadata": {
    "collapsed": true
   },
   "outputs": [],
   "source": [
    "for key in trg_keys:\n",
    "    if '(' in key or '{' in key:\n",
    "        print(key)"
   ]
  },
  {
   "cell_type": "code",
   "execution_count": 18,
   "metadata": {
    "scrolled": true
   },
   "outputs": [
    {
     "name": "stdout",
     "output_type": "stream",
     "text": [
      "&apos;s\n",
      "&quot;\n",
      "&apos;t\n",
      "&apos;re\n",
      "&apos;ve\n",
      "&apos;m\n",
      "&apos;ll\n",
      "&apos;d\n",
      "&apos;\n",
      "&#91;\n",
      "&#93;\n",
      "&amp;\n",
      "&apos;clock\n",
      "&apos;all\n",
      "&apos;s-eye\n",
      "&apos;am\n",
      "&apos;n\n",
      "&apos;i\n",
      "&apos;ivoire\n",
      "&apos;mon\n",
      "&apos;neill\n",
      "&apos;an\n",
      "&apos;oeil\n",
      "&apos;a\n",
      "&apos;andrea\n",
      "&apos;est\n",
      "&apos;toole\n",
      "&apos;ts\n",
      "&apos;walking\n",
      "&apos;état\n"
     ]
    }
   ],
   "source": [
    "for key in trg_keys:\n",
    "    if '&' in key:\n",
    "        print(key)"
   ]
  },
  {
   "cell_type": "code",
   "execution_count": 21,
   "metadata": {},
   "outputs": [
    {
     "name": "stdout",
     "output_type": "stream",
     "text": [
      "Most common source vocabs: [('là', 51451), ('và', 47993), ('một', 40378), ('tôi', 38381), ('những', 37809), ('của', 36330), ('có', 26166), ('bạn', 26111), ('đó', 25229), ('không', 25169)]\n",
      "Source vocab size: 20099\n",
      "Most common english vocabs: [('the', 109723), ('and', 79673), ('to', 65979), ('of', 60510), ('a', 55374), ('that', 49320), ('i', 43629), ('in', 41318), ('it', 39058), ('you', 37438)]\n",
      "English vocab size: 22429\n"
     ]
    }
   ],
   "source": [
    "args.data='../data/iwslt-vi-en'\n",
    "args.source_lang = 'vi'\n",
    "train_data, val_data, test_data, src, trg = loader.load_data(args)"
   ]
  },
  {
   "cell_type": "code",
   "execution_count": 22,
   "metadata": {
    "collapsed": true
   },
   "outputs": [],
   "source": [
    "trg_keys = list(trg.vocab.stoi.keys())"
   ]
  },
  {
   "cell_type": "code",
   "execution_count": 23,
   "metadata": {
    "collapsed": true
   },
   "outputs": [],
   "source": [
    "for key in trg_keys:\n",
    "    if '(' in key or '{' in key:\n",
    "        print(key)"
   ]
  },
  {
   "cell_type": "code",
   "execution_count": 24,
   "metadata": {},
   "outputs": [
    {
     "name": "stdout",
     "output_type": "stream",
     "text": [
      "&apos;s\n",
      "&quot;\n",
      "&apos;t\n",
      "&apos;re\n",
      "&apos;ve\n",
      "&apos;m\n",
      "&apos;ll\n",
      "&apos;d\n",
      "&apos;\n",
      "&#91;\n",
      "&#93;\n",
      "&amp;\n",
      "&apos;clock\n",
      "&apos;s-eye\n",
      "&apos;am\n",
      "&apos;all\n",
      "&apos;mon\n",
      "&apos;an\n",
      "&apos;ivoire\n",
      "&apos;a\n",
      "&apos;andrea\n",
      "&apos;i\n",
      "&apos;n\n",
      "&apos;oeil\n",
      "&apos;toole\n",
      "&apos;walking\n",
      "&apos;état\n"
     ]
    }
   ],
   "source": [
    "for key in trg_keys:\n",
    "    if '&' in key:\n",
    "        print(key)"
   ]
  },
  {
   "cell_type": "code",
   "execution_count": 25,
   "metadata": {
    "collapsed": true
   },
   "outputs": [],
   "source": [
    "src_keys = list(src.vocab.stoi.keys())"
   ]
  },
  {
   "cell_type": "code",
   "execution_count": 26,
   "metadata": {
    "collapsed": true
   },
   "outputs": [],
   "source": [
    "for key in src_keys:\n",
    "    if '(' in key or '{' in key:\n",
    "        print(key)"
   ]
  },
  {
   "cell_type": "code",
   "execution_count": 35,
   "metadata": {
    "collapsed": true
   },
   "outputs": [],
   "source": [
    "for key in src_keys:\n",
    "    if '&' in key:\n",
    "        print(key)"
   ]
  },
  {
   "cell_type": "code",
   "execution_count": 30,
   "metadata": {},
   "outputs": [
    {
     "name": "stdout",
     "output_type": "stream",
     "text": [
      "quot\n"
     ]
    }
   ],
   "source": [
    "for key in src_keys:\n",
    "    if 'quot' in key:\n",
    "        print(key)"
   ]
  },
  {
   "cell_type": "code",
   "execution_count": 32,
   "metadata": {},
   "outputs": [
    {
     "name": "stdout",
     "output_type": "stream",
     "text": [
      "1991\n",
      "1918\n",
      "91\n",
      "1910\n",
      "1919\n",
      "911\n",
      "1912\n",
      "1915\n",
      "1891\n",
      "1913\n"
     ]
    }
   ],
   "source": [
    "for key in src_keys:\n",
    "    if '91' in key:\n",
    "        print(key)"
   ]
  },
  {
   "cell_type": "code",
   "execution_count": 33,
   "metadata": {},
   "outputs": [
    {
     "name": "stdout",
     "output_type": "stream",
     "text": [
      "1930\n",
      "93\n",
      "1993\n",
      "1938\n",
      "1932\n",
      "1933\n",
      "1939\n",
      "1931\n",
      "1934\n",
      "1936\n"
     ]
    }
   ],
   "source": [
    "for key in src_keys:\n",
    "    if '93' in key:\n",
    "        print(key)"
   ]
  },
  {
   "cell_type": "code",
   "execution_count": 36,
   "metadata": {},
   "outputs": [
    {
     "name": "stdout",
     "output_type": "stream",
     "text": [
      "<unk>\n",
      "Bunker\n",
      "Punk\n",
      "junk\n",
      "punk\n"
     ]
    }
   ],
   "source": [
    "for key in src_keys:\n",
    "    if 'unk' in key:\n",
    "        print(key)"
   ]
  },
  {
   "cell_type": "code",
   "execution_count": null,
   "metadata": {
    "collapsed": true
   },
   "outputs": [],
   "source": []
  },
  {
   "cell_type": "code",
   "execution_count": 6,
   "metadata": {
    "collapsed": true
   },
   "outputs": [],
   "source": [
    "device = torch.device(\"cuda\" if (not args.cpu) and torch.cuda.is_available() else \"cpu\")\n",
    "train_iter = data.BucketIterator(\n",
    "        dataset=train_data, \n",
    "        batch_size=args.batch_size,\n",
    "        repeat=False,\n",
    "        sort_key=lambda x: len(x.src),\n",
    "        sort_within_batch=True,\n",
    "        device=device,\n",
    "        train=True\n",
    ")"
   ]
  },
  {
   "cell_type": "code",
   "execution_count": 39,
   "metadata": {},
   "outputs": [
    {
     "data": {
      "text/plain": [
       "Text(0.5,1,'target sentence lengths')"
      ]
     },
     "execution_count": 39,
     "metadata": {},
     "output_type": "execute_result"
    },
    {
     "data": {
      "image/png": "[encoded data removed]",
      "text/plain": [
       "<Figure size 432x288 with 1 Axes>"
      ]
     },
     "metadata": {
      "needs_background": "light"
     },
     "output_type": "display_data"
    }
   ],
   "source": [
    "counter = Counter()\n",
    "for each in train_iter.dataset:\n",
    "    counter[len(each.trg)]+=1\n",
    "plt.plot(sorted(counter), [counter[i] for i in sorted(counter)])\n",
    "plt.title(\"target sentence lengths\")"
   ]
  },
  {
   "cell_type": "code",
   "execution_count": null,
   "metadata": {
    "collapsed": true
   },
   "outputs": [],
   "source": []
  },
  {
   "cell_type": "code",
   "execution_count": 27,
   "metadata": {},
   "outputs": [
    {
     "name": "stdout",
     "output_type": "stream",
     "text": [
      "found\n",
      "6614 \n",
      "[torchtext.data.batch.Batch of size 26]\n",
      "\t[.src]:('[torch.cuda.LongTensor of size 50x26 (GPU 0)]', '[torch.cuda.LongTensor of size 26 (GPU 0)]')\n",
      "\t[.trg]:('[torch.cuda.LongTensor of size 50x26 (GPU 0)]', '[torch.cuda.LongTensor of size 26 (GPU 0)]')\n",
      "\t[.idx]:[torch.cuda.LongTensor of size 26 (GPU 0)]\n"
     ]
    }
   ],
   "source": [
    "# \n",
    "for i, train_batch in enumerate(iter(train_iter)):\n",
    "    if len(train_batch) != args.batch_size:\n",
    "        print(\"found\")\n",
    "        print(i, train_batch)\n",
    "    continue"
   ]
  }
 ],
 "metadata": {
  "kernelspec": {
   "display_name": "Python [conda env:nlpclass]",
   "language": "python",
   "name": "conda-env-nlpclass-py"
  },
  "language_info": {
   "codemirror_mode": {
    "name": "ipython",
    "version": 3
   },
   "file_extension": ".py",
   "mimetype": "text/x-python",
   "name": "python",
   "nbconvert_exporter": "python",
   "pygments_lexer": "ipython3",
   "version": "3.6.6"
  }
 },
 "nbformat": 4,
 "nbformat_minor": 2
}
